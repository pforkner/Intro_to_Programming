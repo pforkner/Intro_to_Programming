{
 "cells": [
  {
   "cell_type": "markdown",
   "id": "bb838184-0cb7-4f52-be46-ee68b6e29185",
   "metadata": {},
   "source": [
    "# Links to Panapto Recordings\n",
    "\n",
    "- [Defining New Functions](https://pierce.hosted.panopto.com/Panopto/Pages/Viewer.aspx?id=d56e5fb6-ea1b-4214-a703-b30e01604e91)\n",
    "- [Calling Functions, Simple Repetition](https://pierce.hosted.panopto.com/Panopto/Pages/Viewer.aspx?id=2a9db165-d5ba-470e-8e78-b30e0160b29e)\n",
    "- [Repetition with For Loops](https://pierce.hosted.panopto.com/Panopto/Pages/Viewer.aspx?id=8b2f881e-6d4a-4eba-9079-b30f01418c5d)"
   ]
  },
  {
   "cell_type": "markdown",
   "id": "0513cea8-07c5-4603-902b-088b6063617c",
   "metadata": {},
   "source": [
    "# Functions"
   ]
  },
  {
   "cell_type": "markdown",
   "id": "6bd858a8",
   "metadata": {
    "id": "6bd858a8"
   },
   "source": [
    "In the previous chapter we used several functions provided by Python, like `int` and `float`, and a few provided by the `math` module, like `sqrt` and `pow`.\n",
    "In this chapter, you will learn how to create your own functions and run them.\n",
    "And we'll see how one function can call another.\n",
    "As examples, we'll display lyrics from Monty Python songs.\n",
    "These silly examples demonstrate an important feature -- the ability to write your own functions is the foundation of programming.\n",
    "\n",
    "This chapter also introduces a new statement, the `for` loop, which is used to repeat a computation."
   ]
  },
  {
   "cell_type": "markdown",
   "id": "b4ea99c5",
   "metadata": {
    "editable": true,
    "id": "b4ea99c5",
    "tags": []
   },
   "source": [
    "A **function definition** specifies the name of a new function and the sequence of statements that run when the function is called. Here's an example:"
   ]
  },
  {
   "cell_type": "markdown",
   "id": "28daae3f-fd5d-40ad-812f-d0477bd7e9a6",
   "metadata": {
    "id": "28daae3f-fd5d-40ad-812f-d0477bd7e9a6"
   },
   "source": [
    "## Defining New Functions"
   ]
  },
  {
   "cell_type": "code",
   "execution_count": null,
   "id": "d28f5c1a",
   "metadata": {
    "id": "d28f5c1a"
   },
   "outputs": [],
   "source": []
  },
  {
   "cell_type": "markdown",
   "id": "0174fc41",
   "metadata": {
    "id": "0174fc41"
   },
   "source": [
    "`def` is a keyword that indicates that this is a function definition.\n",
    "The name of the function is `print_lyrics`.\n",
    "Anything that's a legal variable name is also a legal function name.\n",
    "\n",
    "The empty parentheses after the name indicate that this function doesn't take any arguments.\n",
    "\n",
    "The first line of the function definition is called the **header** -- the rest is called the **body**.\n",
    "The header has to end with a colon and the body has to be indented. By convention, indentation is always four spaces.\n",
    "The body of this function is two print statements; in general, the body of a function can contain any number of statements of any kind.\n",
    "\n",
    "Defining a function creates a **function object**, which we can display like this."
   ]
  },
  {
   "cell_type": "code",
   "execution_count": null,
   "id": "2850a402",
   "metadata": {
    "colab": {
     "base_uri": "https://localhost:8080/",
     "height": 104
    },
    "executionInfo": {
     "elapsed": 3,
     "status": "ok",
     "timestamp": 1751499584114,
     "user": {
      "displayName": "Phillip Forkner",
      "userId": "16276317525226136681"
     },
     "user_tz": 420
    },
    "id": "2850a402",
    "outputId": "c9a4ed30-f322-4153-f97b-1ebdf44db9d2"
   },
   "outputs": [],
   "source": []
  },
  {
   "cell_type": "markdown",
   "id": "12bd0879",
   "metadata": {
    "id": "12bd0879"
   },
   "source": [
    "The output indicates that `print_lyrics` is a function that takes no arguments.\n",
    "`__main__` is the name of the module that contains `print_lyrics`.\n",
    "\n",
    "Now that we've defined a function, we can call it the same way we call built-in functions."
   ]
  },
  {
   "cell_type": "code",
   "execution_count": null,
   "id": "9a048657",
   "metadata": {
    "colab": {
     "base_uri": "https://localhost:8080/"
    },
    "executionInfo": {
     "elapsed": 6,
     "status": "ok",
     "timestamp": 1751499584121,
     "user": {
      "displayName": "Phillip Forkner",
      "userId": "16276317525226136681"
     },
     "user_tz": 420
    },
    "id": "9a048657",
    "outputId": "1d00cf2e-7523-44a3-bb71-cd1862516fa7"
   },
   "outputs": [],
   "source": []
  },
  {
   "cell_type": "markdown",
   "id": "8f0fc45d",
   "metadata": {
    "id": "8f0fc45d",
    "jp-MarkdownHeadingCollapsed": true
   },
   "source": [
    "When the function runs, it executes the statements in the body, which display the first two lines of \"The Lumberjack Song\".\n",
    "\n",
    "Some of the functions we have seen require arguments; for example, when you call `abs` you pass a number as an argument.\n",
    "Some functions take more than one argument; for example, `math.pow` takes two, the base and the exponent.\n",
    "\n",
    "Here is a definition for a function that takes an argument."
   ]
  },
  {
   "cell_type": "code",
   "execution_count": null,
   "id": "e5d00488",
   "metadata": {
    "id": "e5d00488"
   },
   "outputs": [],
   "source": []
  },
  {
   "cell_type": "markdown",
   "id": "1716e3dc",
   "metadata": {
    "id": "1716e3dc"
   },
   "source": [
    "The variable name in parentheses is a **parameter**.\n",
    "When the function is called, the value of the argument is assigned to the parameter.\n",
    "For example, we can call `print_twice` like this."
   ]
  },
  {
   "cell_type": "code",
   "execution_count": null,
   "id": "a3ad5f46",
   "metadata": {
    "colab": {
     "base_uri": "https://localhost:8080/"
    },
    "executionInfo": {
     "elapsed": 4,
     "status": "ok",
     "timestamp": 1751499584170,
     "user": {
      "displayName": "Phillip Forkner",
      "userId": "16276317525226136681"
     },
     "user_tz": 420
    },
    "id": "a3ad5f46",
    "outputId": "1f4c9f6d-04ce-4f96-e961-b39dd79f3400"
   },
   "outputs": [],
   "source": []
  },
  {
   "cell_type": "markdown",
   "id": "f02be6d2",
   "metadata": {
    "id": "f02be6d2"
   },
   "source": [
    "Running this function has the same effect as assigning the argument to the parameter and then executing the body of the function, like this."
   ]
  },
  {
   "cell_type": "code",
   "execution_count": null,
   "id": "042dfec1",
   "metadata": {
    "colab": {
     "base_uri": "https://localhost:8080/"
    },
    "executionInfo": {
     "elapsed": 2,
     "status": "ok",
     "timestamp": 1751499584173,
     "user": {
      "displayName": "Phillip Forkner",
      "userId": "16276317525226136681"
     },
     "user_tz": 420
    },
    "id": "042dfec1",
    "outputId": "b1e1a882-343e-4cf4-85c9-5df93275b0eb"
   },
   "outputs": [],
   "source": []
  },
  {
   "cell_type": "markdown",
   "id": "ea8b8b6e",
   "metadata": {
    "id": "ea8b8b6e"
   },
   "source": [
    "You can also use a variable as an argument."
   ]
  },
  {
   "cell_type": "code",
   "execution_count": null,
   "id": "8f078ad0",
   "metadata": {
    "colab": {
     "base_uri": "https://localhost:8080/"
    },
    "executionInfo": {
     "elapsed": 9,
     "status": "ok",
     "timestamp": 1751499584183,
     "user": {
      "displayName": "Phillip Forkner",
      "userId": "16276317525226136681"
     },
     "user_tz": 420
    },
    "id": "8f078ad0",
    "outputId": "fecc50e9-cf41-4493-b514-c9ca219bda6c"
   },
   "outputs": [],
   "source": []
  },
  {
   "cell_type": "markdown",
   "id": "5c1884ad",
   "metadata": {
    "id": "5c1884ad"
   },
   "source": [
    "In this example, the value of `line` gets assigned to the parameter `string`."
   ]
  },
  {
   "cell_type": "markdown",
   "id": "1ae856ad-e107-438c-9097-4cd49f071c2e",
   "metadata": {
    "id": "1ae856ad-e107-438c-9097-4cd49f071c2e"
   },
   "source": [
    "## Calling functions, simple repetition\n"
   ]
  },
  {
   "cell_type": "markdown",
   "id": "a3e5a790",
   "metadata": {
    "editable": true,
    "id": "a3e5a790",
    "tags": []
   },
   "source": [
    "Once you have defined a function, you can use it inside another function.\n",
    "To demonstrate, we'll write functions that print the lyrics of \"The Spam Song\" (<https://www.songfacts.com/lyrics/monty-python/the-spam-song>).\n",
    "\n",
    "> Spam, Spam, Spam, Spam,  \n",
    "> Spam, Spam, Spam, Spam,  \n",
    "> Spam, Spam,  \n",
    "> (Lovely Spam, Wonderful Spam!)  \n",
    "> Spam, Spam,\n",
    "\n",
    "We'll start with the following function, which takes two parameters.\n"
   ]
  },
  {
   "cell_type": "code",
   "execution_count": null,
   "id": "e86bb32c",
   "metadata": {
    "id": "e86bb32c"
   },
   "outputs": [],
   "source": []
  },
  {
   "cell_type": "markdown",
   "id": "bdd4daa4",
   "metadata": {
    "id": "bdd4daa4"
   },
   "source": [
    "We can use this function to print the first line of the song, like this."
   ]
  },
  {
   "cell_type": "code",
   "execution_count": null,
   "id": "ec117999",
   "metadata": {
    "colab": {
     "base_uri": "https://localhost:8080/"
    },
    "executionInfo": {
     "elapsed": 32,
     "status": "ok",
     "timestamp": 1751499584224,
     "user": {
      "displayName": "Phillip Forkner",
      "userId": "16276317525226136681"
     },
     "user_tz": 420
    },
    "id": "ec117999",
    "outputId": "9a2fe174-d5cb-47bf-88ed-8f5f33ae5812"
   },
   "outputs": [],
   "source": []
  },
  {
   "cell_type": "markdown",
   "id": "c6f81e09",
   "metadata": {
    "id": "c6f81e09"
   },
   "source": [
    "To display the first two lines, we can define a new function that uses `repeat`."
   ]
  },
  {
   "cell_type": "code",
   "execution_count": null,
   "id": "3731ffd8",
   "metadata": {
    "id": "3731ffd8"
   },
   "outputs": [],
   "source": []
  },
  {
   "cell_type": "markdown",
   "id": "8058ffe4",
   "metadata": {
    "id": "8058ffe4"
   },
   "source": [
    "And then call it like this."
   ]
  },
  {
   "cell_type": "code",
   "execution_count": null,
   "id": "6792e63b",
   "metadata": {
    "colab": {
     "base_uri": "https://localhost:8080/"
    },
    "executionInfo": {
     "elapsed": 49,
     "status": "ok",
     "timestamp": 1751499584288,
     "user": {
      "displayName": "Phillip Forkner",
      "userId": "16276317525226136681"
     },
     "user_tz": 420
    },
    "id": "6792e63b",
    "outputId": "10f9869f-8c29-490f-8f01-8ca98752de8c"
   },
   "outputs": [],
   "source": []
  },
  {
   "cell_type": "markdown",
   "id": "07ca432a",
   "metadata": {
    "id": "07ca432a"
   },
   "source": [
    "To display the last three lines, we can define another function, which also uses `repeat`."
   ]
  },
  {
   "cell_type": "code",
   "execution_count": null,
   "id": "2dcb020a",
   "metadata": {
    "id": "2dcb020a"
   },
   "outputs": [],
   "source": [
    "\n"
   ]
  },
  {
   "cell_type": "code",
   "execution_count": null,
   "id": "9ff8c60e",
   "metadata": {
    "colab": {
     "base_uri": "https://localhost:8080/"
    },
    "executionInfo": {
     "elapsed": 68,
     "status": "ok",
     "timestamp": 1751499584361,
     "user": {
      "displayName": "Phillip Forkner",
      "userId": "16276317525226136681"
     },
     "user_tz": 420
    },
    "id": "9ff8c60e",
    "outputId": "02bb0a23-3286-46dc-9cf2-249cb392ee2b"
   },
   "outputs": [],
   "source": []
  },
  {
   "cell_type": "markdown",
   "id": "d6456a19",
   "metadata": {
    "id": "d6456a19"
   },
   "source": [
    "Finally, we can bring it all together with one function that prints the whole verse."
   ]
  },
  {
   "cell_type": "code",
   "execution_count": null,
   "id": "78bf3a7b",
   "metadata": {
    "id": "78bf3a7b"
   },
   "outputs": [],
   "source": []
  },
  {
   "cell_type": "code",
   "execution_count": null,
   "id": "ba5da431",
   "metadata": {
    "colab": {
     "base_uri": "https://localhost:8080/"
    },
    "executionInfo": {
     "elapsed": 3,
     "status": "ok",
     "timestamp": 1751499584365,
     "user": {
      "displayName": "Phillip Forkner",
      "userId": "16276317525226136681"
     },
     "user_tz": 420
    },
    "id": "ba5da431",
    "outputId": "f546eda4-be08-4f9e-86c0-9c0f710242a3"
   },
   "outputs": [],
   "source": []
  },
  {
   "cell_type": "markdown",
   "id": "d088fe68",
   "metadata": {
    "id": "d088fe68"
   },
   "source": [
    "When we run `print_verse`, it calls `first_two_lines`, which calls `repeat`, which calls `print`.\n",
    "That's a lot of functions.\n",
    "\n",
    "Of course, we could have done the same thing with fewer functions, but the point of this example is to show how functions can work together.\n",
    "\n",
    "Sometimes this is called factoring. For example:\n",
    "\n",
    "$(2x + 4) = 2(x + 2)$"
   ]
  },
  {
   "cell_type": "markdown",
   "id": "04b43e6c-b74d-486d-8e85-be1d4da658a3",
   "metadata": {
    "id": "04b43e6c-b74d-486d-8e85-be1d4da658a3"
   },
   "source": [
    "## Repetition with `for` loop"
   ]
  },
  {
   "cell_type": "markdown",
   "id": "f6924533-9ffb-4e5d-add7-f604235268f9",
   "metadata": {
    "id": "f6924533-9ffb-4e5d-add7-f604235268f9"
   },
   "source": [
    "W3Schools: [Python For Loops](https://www.w3schools.com/python/python_for_loops.asp)\n",
    "\n",
    "W3Schools: [Python `range()` Function](https://www.w3schools.com/python/ref_func_range.asp)\n",
    "\n",
    "If we want to display more than one verse, we can use a `for` statement.\n",
    "Here's a simple example."
   ]
  },
  {
   "cell_type": "code",
   "execution_count": null,
   "id": "29b7eff3",
   "metadata": {
    "colab": {
     "base_uri": "https://localhost:8080/"
    },
    "executionInfo": {
     "elapsed": 5,
     "status": "ok",
     "timestamp": 1751499893439,
     "user": {
      "displayName": "Phillip Forkner",
      "userId": "16276317525226136681"
     },
     "user_tz": 420
    },
    "id": "29b7eff3",
    "outputId": "7d4ec120-91d6-460e-fa86-14c1b8de83c0"
   },
   "outputs": [],
   "source": []
  },
  {
   "cell_type": "markdown",
   "id": "23caa1d5-3dd0-4e3a-8411-569d6f83718a",
   "metadata": {
    "id": "23caa1d5-3dd0-4e3a-8411-569d6f83718a"
   },
   "source": [
    "The first line is a header that ends with a colon.\n",
    "The second line is the body, which has to be indented.\n",
    "\n",
    "The header starts with the keyword `for`, a new variable named `i`, and another keyword, `in`.\n",
    "\n",
    "It uses the `range` function to create a sequence of two values, which are `0` and `1` (0 up to, but not including, 2).\n",
    "\n",
    "In programming, we usually start counting from `0`.\n",
    "\n",
    "When the `for` statement runs, it assigns the first value from `range` to `i` and then runs the `print` function in the body, which displays `0`.\n",
    "\n",
    "When it gets to the end of the body, it loops back around to the header, which is why this statement is called a **loop**.\n",
    "\n",
    "The second time through the loop, it assigns the next value from `range` to `i`, and displays it.\n",
    "\n",
    "Then, because that's the last value from `range`, the loop ends.\n",
    "\n",
    "The `range()` function can optionally take two or three parameters: *start*, *stop*, and *step*. When passed with just one argument, it indicates the (excluded) stop point."
   ]
  },
  {
   "cell_type": "code",
   "execution_count": null,
   "id": "e17d9520-f4ea-465f-a3c7-ebd1f575fbad",
   "metadata": {
    "colab": {
     "base_uri": "https://localhost:8080/"
    },
    "executionInfo": {
     "elapsed": 4,
     "status": "ok",
     "timestamp": 1751500021154,
     "user": {
      "displayName": "Phillip Forkner",
      "userId": "16276317525226136681"
     },
     "user_tz": 420
    },
    "id": "e17d9520-f4ea-465f-a3c7-ebd1f575fbad",
    "outputId": "3a415547-ad33-46f5-cf64-55f0553ae10d"
   },
   "outputs": [],
   "source": [
    "# two parameters: range(start, stop)\n"
   ]
  },
  {
   "cell_type": "code",
   "execution_count": null,
   "id": "f00653f0-affa-43df-8e75-dd449409f92c",
   "metadata": {
    "colab": {
     "base_uri": "https://localhost:8080/"
    },
    "executionInfo": {
     "elapsed": 6,
     "status": "ok",
     "timestamp": 1751500060682,
     "user": {
      "displayName": "Phillip Forkner",
      "userId": "16276317525226136681"
     },
     "user_tz": 420
    },
    "id": "f00653f0-affa-43df-8e75-dd449409f92c",
    "outputId": "93aefe67-6b1f-4fd8-9dee-4dae3b4babb9"
   },
   "outputs": [],
   "source": [
    "# three parameters: range(start, stop, step)\n"
   ]
  },
  {
   "cell_type": "markdown",
   "id": "bf320549",
   "metadata": {
    "id": "bf320549"
   },
   "source": [
    "Here's how we can use a `for` loop to print two verses of the song."
   ]
  },
  {
   "cell_type": "code",
   "execution_count": null,
   "id": "038ad592",
   "metadata": {
    "colab": {
     "base_uri": "https://localhost:8080/"
    },
    "executionInfo": {
     "elapsed": 40,
     "status": "ok",
     "timestamp": 1751500165022,
     "user": {
      "displayName": "Phillip Forkner",
      "userId": "16276317525226136681"
     },
     "user_tz": 420
    },
    "id": "038ad592",
    "outputId": "300b4832-b20e-4ef4-b622-6da56ebb702b"
   },
   "outputs": [],
   "source": []
  },
  {
   "cell_type": "markdown",
   "id": "88a46733",
   "metadata": {
    "id": "88a46733"
   },
   "source": [
    "You can put a `for` loop inside a function.\n",
    "For example, `print_n_verses` takes a parameter named `n`, which has to be an integer, and displays the given number of verses."
   ]
  },
  {
   "cell_type": "code",
   "execution_count": null,
   "id": "8887637a",
   "metadata": {
    "id": "8887637a"
   },
   "outputs": [],
   "source": []
  },
  {
   "cell_type": "code",
   "execution_count": null,
   "id": "IxJAMyOojJFC",
   "metadata": {
    "colab": {
     "base_uri": "https://localhost:8080/"
    },
    "executionInfo": {
     "elapsed": 4,
     "status": "ok",
     "timestamp": 1751500266457,
     "user": {
      "displayName": "Phillip Forkner",
      "userId": "16276317525226136681"
     },
     "user_tz": 420
    },
    "id": "IxJAMyOojJFC",
    "outputId": "7adb614b-25d8-4701-889b-7ef301d6dd54"
   },
   "outputs": [],
   "source": []
  },
  {
   "cell_type": "markdown",
   "id": "ad8060fe",
   "metadata": {
    "id": "ad8060fe"
   },
   "source": [
    "In this example, we don't use `i` in the body of the loop, but there has to be a variable name in the header anyway. Sometimes we use a single underscore `_` to denote a \"dummy\" variable."
   ]
  },
  {
   "cell_type": "markdown",
   "id": "01371c76-e6f1-4efc-b24f-985c940f264b",
   "metadata": {
    "id": "01371c76-e6f1-4efc-b24f-985c940f264b"
   },
   "source": [
    "## Variables and parameters are local"
   ]
  },
  {
   "cell_type": "markdown",
   "id": "b320ec90",
   "metadata": {
    "editable": true,
    "id": "b320ec90",
    "tags": []
   },
   "source": [
    "When you create a variable inside a function, it is **local**, which\n",
    "means that it only exists inside the function.\n",
    "For example, the following function takes two arguments, concatenates them, and prints the result twice."
   ]
  },
  {
   "cell_type": "code",
   "execution_count": null,
   "id": "0db8408e",
   "metadata": {
    "id": "0db8408e"
   },
   "outputs": [],
   "source": []
  },
  {
   "cell_type": "markdown",
   "id": "3a35a6d0",
   "metadata": {
    "id": "3a35a6d0"
   },
   "source": [
    "Here's an example that uses it:"
   ]
  },
  {
   "cell_type": "code",
   "execution_count": null,
   "id": "1c556e48",
   "metadata": {
    "colab": {
     "base_uri": "https://localhost:8080/"
    },
    "executionInfo": {
     "elapsed": 8,
     "status": "ok",
     "timestamp": 1751500373817,
     "user": {
      "displayName": "Phillip Forkner",
      "userId": "16276317525226136681"
     },
     "user_tz": 420
    },
    "id": "1c556e48",
    "outputId": "7c01a775-f6de-4494-f19a-1798a824ddb9"
   },
   "outputs": [],
   "source": []
  },
  {
   "cell_type": "markdown",
   "id": "4ab4e008",
   "metadata": {
    "id": "4ab4e008"
   },
   "source": [
    "When `cat_twice` runs, it creates a local variable named `cat`, which is destroyed when the function ends.\n",
    "If we try to display it, we get a `NameError`:"
   ]
  },
  {
   "cell_type": "code",
   "execution_count": null,
   "id": "73f03eea",
   "metadata": {
    "colab": {
     "base_uri": "https://localhost:8080/",
     "height": 178
    },
    "editable": true,
    "executionInfo": {
     "elapsed": 37,
     "status": "error",
     "timestamp": 1751500456280,
     "user": {
      "displayName": "Phillip Forkner",
      "userId": "16276317525226136681"
     },
     "user_tz": 420
    },
    "id": "73f03eea",
    "outputId": "e738c708-4ddb-4b8a-a715-862cc4219cee",
    "tags": [
     "raises-exception"
    ]
   },
   "outputs": [],
   "source": []
  },
  {
   "cell_type": "code",
   "execution_count": null,
   "id": "F3y1oNctkEp_",
   "metadata": {
    "colab": {
     "base_uri": "https://localhost:8080/",
     "height": 178
    },
    "executionInfo": {
     "elapsed": 5,
     "status": "error",
     "timestamp": 1751500481160,
     "user": {
      "displayName": "Phillip Forkner",
      "userId": "16276317525226136681"
     },
     "user_tz": 420
    },
    "id": "F3y1oNctkEp_",
    "outputId": "e20f054d-b957-4f9e-909f-80f0c6a308d2"
   },
   "outputs": [],
   "source": []
  },
  {
   "cell_type": "code",
   "execution_count": null,
   "id": "sGTefaT4kLTh",
   "metadata": {
    "colab": {
     "base_uri": "https://localhost:8080/"
    },
    "executionInfo": {
     "elapsed": 10,
     "status": "ok",
     "timestamp": 1751500506193,
     "user": {
      "displayName": "Phillip Forkner",
      "userId": "16276317525226136681"
     },
     "user_tz": 420
    },
    "id": "sGTefaT4kLTh",
    "outputId": "19d29e25-c24a-4e9f-f70f-30da68875451"
   },
   "outputs": [],
   "source": []
  },
  {
   "cell_type": "markdown",
   "id": "3ae36c29",
   "metadata": {
    "editable": true,
    "id": "3ae36c29",
    "tags": []
   },
   "source": [
    "Outside of the function, `cat` is not defined.\n",
    "\n",
    "Parameters are also local.\n",
    "For example, outside `cat_twice`, there is no such thing as `part1` or `part2`."
   ]
  },
  {
   "cell_type": "markdown",
   "id": "6fbefea9-dcb3-4bcd-a4fe-9b20dff0e2c3",
   "metadata": {
    "id": "6fbefea9-dcb3-4bcd-a4fe-9b20dff0e2c3"
   },
   "source": [
    "## Tracebacks"
   ]
  },
  {
   "cell_type": "markdown",
   "id": "5690cfc0",
   "metadata": {
    "editable": true,
    "id": "5690cfc0",
    "tags": []
   },
   "source": [
    "When a runtime error occurs in a function, Python displays the name of the function that was running, the name of the function that called it, and so on, up the stack.\n",
    "To see an example, I'll define a version of `print_twice` that contains an error -- it tries to print `cat`, which is a local variable in another function."
   ]
  },
  {
   "cell_type": "code",
   "execution_count": null,
   "id": "886519cf",
   "metadata": {
    "id": "886519cf"
   },
   "outputs": [],
   "source": []
  },
  {
   "cell_type": "markdown",
   "id": "d7c0713b",
   "metadata": {
    "id": "d7c0713b"
   },
   "source": [
    "Now here's what happens when we run `cat_twice`."
   ]
  },
  {
   "cell_type": "code",
   "execution_count": null,
   "id": "1fe8ee82",
   "metadata": {
    "colab": {
     "base_uri": "https://localhost:8080/"
    },
    "executionInfo": {
     "elapsed": 15,
     "status": "ok",
     "timestamp": 1751500590190,
     "user": {
      "displayName": "Phillip Forkner",
      "userId": "16276317525226136681"
     },
     "user_tz": 420
    },
    "id": "1fe8ee82",
    "outputId": "29fab120-50e7-48cf-e24a-1bdce0dfcf89",
    "tags": []
   },
   "outputs": [],
   "source": [
    "# This cell tells Jupyter to provide detailed debugging information\n",
    "# when a runtime error occurs, including a traceback.\n",
    "\n",
    "%xmode Verbose"
   ]
  },
  {
   "cell_type": "code",
   "execution_count": null,
   "id": "d9082f88",
   "metadata": {
    "colab": {
     "base_uri": "https://localhost:8080/",
     "height": 361
    },
    "editable": true,
    "executionInfo": {
     "elapsed": 19,
     "status": "error",
     "timestamp": 1751500604180,
     "user": {
      "displayName": "Phillip Forkner",
      "userId": "16276317525226136681"
     },
     "user_tz": 420
    },
    "id": "d9082f88",
    "outputId": "e920dbd5-2b53-494a-f092-59262b4ce985",
    "tags": [
     "raises-exception"
    ]
   },
   "outputs": [],
   "source": []
  },
  {
   "cell_type": "markdown",
   "id": "2f4defcf",
   "metadata": {
    "id": "2f4defcf"
   },
   "source": [
    "The error message includes a **traceback**, which shows the function that was running when the error occurred, the function that called it, and so on.\n",
    "In this example, it shows that `cat_twice` called `print_twice`, and the error occurred in a `print_twice`.\n",
    "\n",
    "The order of the functions in the traceback is the same as the order of the frames in the stack diagram.\n",
    "The function that was running is at the bottom."
   ]
  },
  {
   "cell_type": "markdown",
   "id": "3192eafe-f394-4105-839f-59ed0554d08f",
   "metadata": {
    "id": "3192eafe-f394-4105-839f-59ed0554d08f"
   },
   "source": [
    "## Why functions?"
   ]
  },
  {
   "cell_type": "markdown",
   "id": "374b4696",
   "metadata": {
    "editable": true,
    "id": "374b4696",
    "jp-MarkdownHeadingCollapsed": true,
    "tags": []
   },
   "source": [
    "It may not be clear yet why it is worth the trouble to divide a program into\n",
    "functions.\n",
    "There are several reasons:\n",
    "\n",
    "-   Creating a new function gives you an opportunity to name a group of\n",
    "    statements, which makes your program easier to read and debug.\n",
    "\n",
    "-   Functions can make a program smaller by eliminating repetitive code.\n",
    "    Later, if you make a change, you only have to make it in one place.\n",
    "\n",
    "-   Dividing a long program into functions allows you to debug the parts\n",
    "    one at a time and then assemble them into a working whole.\n",
    "\n",
    "-   Well-designed functions are often useful for many programs. Once you\n",
    "    write and debug one, you can reuse it."
   ]
  },
  {
   "cell_type": "markdown",
   "id": "aa07da37-5491-49fe-afb8-9b4ca02bc3d5",
   "metadata": {
    "id": "aa07da37-5491-49fe-afb8-9b4ca02bc3d5"
   },
   "source": [
    "## Debugging"
   ]
  },
  {
   "cell_type": "markdown",
   "id": "c6dd486e",
   "metadata": {
    "editable": true,
    "id": "c6dd486e",
    "tags": []
   },
   "source": [
    "Debugging can be frustrating, but it is also challenging, interesting, and sometimes even fun.\n",
    "And it is one of the most important skills you can learn.\n",
    "\n",
    "In some ways debugging is like detective work.\n",
    "You are given clues and you have to infer the events that led to the\n",
    "results you see.\n",
    "\n",
    "Debugging is also like experimental science.\n",
    "Once you have an idea about what is going wrong, you modify your program and try again.\n",
    "If your hypothesis was correct, you can predict the result of the modification, and you take a step closer to a working program.\n",
    "If your hypothesis was wrong, you have to come up with a new one.\n",
    "\n",
    "For some people, programming and debugging are the same thing; that is, programming is the process of gradually debugging a program until it does what you want.\n",
    "The idea is that you should start with a working program and make small modifications, debugging them as you go.\n",
    "\n",
    "If you find yourself spending a lot of time debugging, that is often a sign that you are writing too much code before you start tests.\n",
    "If you take smaller steps, you might find that you can move faster."
   ]
  },
  {
   "cell_type": "markdown",
   "id": "ab23bdbe-55ed-46d1-b76c-8ad1516ee79c",
   "metadata": {
    "id": "ab23bdbe-55ed-46d1-b76c-8ad1516ee79c"
   },
   "source": [
    "## Glossary"
   ]
  },
  {
   "cell_type": "markdown",
   "id": "d4e95e63",
   "metadata": {
    "editable": true,
    "id": "d4e95e63",
    "tags": []
   },
   "source": [
    "**function definition:**\n",
    "A statement that creates a function.\n",
    "\n",
    "**header:**\n",
    " The first line of a function definition.\n",
    "\n",
    "**body:**\n",
    " The sequence of statements inside a function definition.\n",
    "\n",
    "**function object:**\n",
    "A value created by a function definition.\n",
    "The name of the function is a variable that refers to a function object.\n",
    "\n",
    "**parameter:**\n",
    " A name used inside a function to refer to the value passed as an argument.\n",
    "\n",
    "**loop:**\n",
    " A statement that runs one or more statements, often repeatedly.\n",
    "\n",
    "**local variable:**\n",
    "A variable defined inside a function, and which can only be accessed inside the function.\n",
    "\n",
    "**stack diagram:**\n",
    "A graphical representation of a stack of functions, their variables, and the values they refer to.\n",
    "\n",
    "**frame:**\n",
    " A box in a stack diagram that represents a function call.\n",
    " It contains the local variables and parameters of the function.\n",
    "\n",
    "**traceback:**\n",
    " A list of the functions that are executing, printed when an exception occurs."
   ]
  },
  {
   "cell_type": "markdown",
   "id": "eca485f2",
   "metadata": {
    "editable": true,
    "id": "eca485f2",
    "tags": []
   },
   "source": [
    "## Exercises"
   ]
  },
  {
   "cell_type": "code",
   "execution_count": null,
   "id": "3f77b428",
   "metadata": {
    "colab": {
     "base_uri": "https://localhost:8080/"
    },
    "executionInfo": {
     "elapsed": 4,
     "status": "ok",
     "timestamp": 1751499584549,
     "user": {
      "displayName": "Phillip Forkner",
      "userId": "16276317525226136681"
     },
     "user_tz": 420
    },
    "id": "3f77b428",
    "outputId": "4273240d-8d01-46e0-920b-ce8ce77ff262",
    "tags": []
   },
   "outputs": [],
   "source": [
    "# This cell tells Jupyter to provide detailed debugging information\n",
    "# when a runtime error occurs. Run it before working on the exercises.\n",
    "\n",
    "%xmode Verbose"
   ]
  },
  {
   "cell_type": "markdown",
   "id": "82951027",
   "metadata": {
    "id": "82951027",
    "jp-MarkdownHeadingCollapsed": true
   },
   "source": [
    "### Ask a virtual assistant\n",
    "\n",
    "The statements in a function or a `for` loop are indented by four spaces, by convention.\n",
    "But not everyone agrees with that convention.\n",
    "If you are curious about the history of this great debate, ask a virtual assistant to \"tell me about spaces and tabs in Python\".\n",
    "\n",
    "Virtual assistant are pretty good at writing small functions.\n",
    "\n",
    "1. Ask your favorite VA to \"Write a function called repeat that takes a string and an integer and prints the string the given number of times.\"\n",
    "\n",
    "2. If the result uses a `for` loop, you could ask, \"Can you do it without a for loop?\"\n",
    "\n",
    "3. Pick any other function in this chapter and ask a VA to write it. The challenge is to describe the function precisely enough to get what you want. Use the vocabulary you have learned so far in this book.\n",
    "\n",
    "Virtual assistants are also pretty good at debugging functions.\n",
    "\n",
    "1. Ask a VA what's wrong with this version of `print_twice`.\n",
    "\n",
    "    ```\n",
    "    def print_twice(string):\n",
    "        print(cat)\n",
    "        print(cat)\n",
    "    ```\n",
    "    \n",
    "And if you get stuck on any of the exercises below, consider asking a VA for help."
   ]
  },
  {
   "cell_type": "markdown",
   "id": "b7157b09",
   "metadata": {
    "id": "b7157b09"
   },
   "source": [
    "### Exercise\n",
    "\n",
    "Write a function named `print_right` that takes a string named `text` as a parameter and prints the string with enough leading spaces that the last letter of the string is in the 40th column of the display."
   ]
  },
  {
   "cell_type": "code",
   "execution_count": null,
   "id": "a6004271",
   "metadata": {
    "id": "a6004271"
   },
   "outputs": [],
   "source": [
    "# Solution goes here"
   ]
  },
  {
   "cell_type": "markdown",
   "id": "428fbee5",
   "metadata": {
    "id": "428fbee5"
   },
   "source": [
    "Hint: Use the `len` function, the string concatenation operator (`+`) and the string repetition operator (`*`).\n",
    "\n",
    "Here's an example that shows how it should work."
   ]
  },
  {
   "cell_type": "code",
   "execution_count": null,
   "id": "f142ce6a",
   "metadata": {
    "colab": {
     "base_uri": "https://localhost:8080/",
     "height": 196
    },
    "executionInfo": {
     "elapsed": 138,
     "status": "error",
     "timestamp": 1751499584697,
     "user": {
      "displayName": "Phillip Forkner",
      "userId": "16276317525226136681"
     },
     "user_tz": 420
    },
    "id": "f142ce6a",
    "outputId": "2ff0b017-03bb-4de1-a426-eff2b87026e8",
    "tags": []
   },
   "outputs": [],
   "source": [
    "print_right(\"Monty\")\n",
    "print_right(\"Python's\")\n",
    "print_right(\"Flying Circus\")"
   ]
  },
  {
   "cell_type": "markdown",
   "id": "b47467fa",
   "metadata": {
    "id": "b47467fa"
   },
   "source": [
    "### Exercise\n",
    "\n",
    "Write a function called `triangle` that takes a string and an integer and draws a pyramid with the given height, made up using copies of the string. Here's an example of a pyramid with `5` levels, using the string `'L'`."
   ]
  },
  {
   "cell_type": "code",
   "execution_count": null,
   "id": "7aa95014",
   "metadata": {
    "id": "7aa95014"
   },
   "outputs": [],
   "source": [
    "# Solution goes here"
   ]
  },
  {
   "cell_type": "code",
   "execution_count": null,
   "id": "b8146a0d",
   "metadata": {
    "id": "b8146a0d",
    "scrolled": true,
    "tags": []
   },
   "outputs": [],
   "source": [
    "triangle('L', 5)"
   ]
  },
  {
   "cell_type": "markdown",
   "id": "4a28f635",
   "metadata": {
    "id": "4a28f635"
   },
   "source": [
    "### Exercise\n",
    "\n",
    "Write a function called `rectangle` that takes a string and two integers and draws a rectangle with the given width and height, made up using copies of the string. Here's an example of a rectangle with width `5` and height `4`, made up of the string `'H'`."
   ]
  },
  {
   "cell_type": "code",
   "execution_count": null,
   "id": "bcedab79",
   "metadata": {
    "id": "bcedab79"
   },
   "outputs": [],
   "source": [
    "# Solution goes here"
   ]
  },
  {
   "cell_type": "code",
   "execution_count": null,
   "id": "73b0c0f6",
   "metadata": {
    "id": "73b0c0f6",
    "scrolled": true,
    "tags": []
   },
   "outputs": [],
   "source": [
    "rectangle('H', 5, 4)"
   ]
  },
  {
   "cell_type": "markdown",
   "id": "44a5de6f",
   "metadata": {
    "id": "44a5de6f"
   },
   "source": [
    "### Exercise\n",
    "\n",
    "The song \"99 Bottles of Beer\" starts with this verse:\n",
    "\n",
    "> 99 bottles of beer on the wall  \n",
    "> 99 bottles of beer  \n",
    "> Take one down, pass it around  \n",
    "> 98 bottles of beer on the wall  \n",
    "\n",
    "Then the second verse is the same, except that it starts with 98 bottles and ends with 97. The song continues -- for a very long time -- until there are 0 bottles of beer.\n",
    "\n",
    "Write a function called `bottle_verse` that takes a number as a parameter and displays the verse that starts with the given number of bottles.\n",
    "\n",
    "Hint: Consider starting with a function that can print the first, second, or last line of the verse, and then use it to write `bottle_verse`."
   ]
  },
  {
   "cell_type": "code",
   "execution_count": null,
   "id": "53424b43",
   "metadata": {
    "id": "53424b43"
   },
   "outputs": [],
   "source": [
    "# Solution goes here"
   ]
  },
  {
   "cell_type": "code",
   "execution_count": null,
   "id": "61010ffb",
   "metadata": {
    "id": "61010ffb"
   },
   "outputs": [],
   "source": [
    "# Solution goes here"
   ]
  },
  {
   "cell_type": "markdown",
   "id": "ee0076dd",
   "metadata": {
    "id": "ee0076dd",
    "tags": []
   },
   "source": [
    "Use this function call to display the first verse."
   ]
  },
  {
   "cell_type": "code",
   "execution_count": null,
   "id": "47a91c7d",
   "metadata": {
    "id": "47a91c7d",
    "tags": []
   },
   "outputs": [],
   "source": [
    "bottle_verse(99)"
   ]
  },
  {
   "cell_type": "markdown",
   "id": "42c237c6",
   "metadata": {
    "id": "42c237c6",
    "tags": []
   },
   "source": [
    "If you want to print the whole song, you can use this `for` loop, which counts down from `99` to `1`.\n",
    "You don't have to completely understand this example---we'll learn more about `for` loops and the `range` function later."
   ]
  },
  {
   "cell_type": "code",
   "execution_count": null,
   "id": "336cdfa2",
   "metadata": {
    "editable": true,
    "id": "336cdfa2",
    "tags": []
   },
   "outputs": [],
   "source": [
    "for n in range(99, 0, -1):\n",
    "    bottle_verse(n)\n",
    "    print()"
   ]
  },
  {
   "cell_type": "markdown",
   "id": "458a0ec8-9e4e-4419-b76f-c82aab6b70ab",
   "metadata": {
    "id": "458a0ec8-9e4e-4419-b76f-c82aab6b70ab",
    "jp-MarkdownHeadingCollapsed": true
   },
   "source": [
    "## Credits"
   ]
  },
  {
   "cell_type": "markdown",
   "id": "a7f4edf8",
   "metadata": {
    "editable": true,
    "id": "a7f4edf8",
    "tags": []
   },
   "source": [
    "Adapted from [Think Python: 3rd Edition](https://allendowney.github.io/ThinkPython/index.html) by [Allen B. Downey](https://allendowney.com)\n",
    "\n",
    "Code license: [MIT License](https://mit-license.org/)\n",
    "\n",
    "Text license: [Creative Commons Attribution-NonCommercial-ShareAlike 4.0 International](https://creativecommons.org/licenses/by-nc-sa/4.0/)"
   ]
  }
 ],
 "metadata": {
  "celltoolbar": "Tags",
  "colab": {
   "provenance": []
  },
  "kernelspec": {
   "display_name": "Python 3 (ipykernel)",
   "language": "python",
   "name": "python3"
  },
  "language_info": {
   "codemirror_mode": {
    "name": "ipython",
    "version": 3
   },
   "file_extension": ".py",
   "mimetype": "text/x-python",
   "name": "python",
   "nbconvert_exporter": "python",
   "pygments_lexer": "ipython3",
   "version": "3.13.5"
  }
 },
 "nbformat": 4,
 "nbformat_minor": 5
}
