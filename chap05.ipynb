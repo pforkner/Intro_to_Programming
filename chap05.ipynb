{
 "cells": [
  {
   "cell_type": "markdown",
   "id": "c75c9d63-7942-4559-9009-43643fd728b0",
   "metadata": {
    "editable": true,
    "slideshow": {
     "slide_type": ""
    },
    "tags": []
   },
   "source": [
    "# Conditionals"
   ]
  },
  {
   "cell_type": "markdown",
   "id": "75b60d6c",
   "metadata": {
    "editable": true,
    "slideshow": {
     "slide_type": ""
    },
    "tags": []
   },
   "source": [
    "The main topic of this chapter is the `if` statement, which executes different code depending on the state of the program.\n",
    "And with the `if` statement we'll be able to explore one of the most powerful ideas in computing, **recursion**.\n",
    "\n",
    "But we'll start with boolean expressions and logical operators.\n",
    "\n",
    "Wikipedia: [George Boole](https://en.wikipedia.org/wiki/George_Boole)"
   ]
  },
  {
   "cell_type": "markdown",
   "id": "d39e83be-ab81-46ce-8f48-4bb6ca089a6d",
   "metadata": {
    "editable": true,
    "slideshow": {
     "slide_type": ""
    },
    "tags": []
   },
   "source": [
    "## Boolean Expressions"
   ]
  },
  {
   "cell_type": "markdown",
   "id": "5ed1b58b",
   "metadata": {
    "editable": true,
    "slideshow": {
     "slide_type": ""
    },
    "tags": []
   },
   "source": [
    "W3Schools: [Python Operators](https://www.w3schools.com/python/python_operators.asp)\n",
    "\n",
    "A **boolean expression** is an expression that is either true or false.\n",
    "For example, the following expressions use the equals operator, `==`, which compares two values and produces `True` if they are equal and `False` otherwise:"
   ]
  },
  {
   "cell_type": "code",
   "execution_count": null,
   "id": "85589d38",
   "metadata": {
    "editable": true,
    "slideshow": {
     "slide_type": ""
    },
    "tags": []
   },
   "outputs": [],
   "source": []
  },
  {
   "cell_type": "code",
   "execution_count": null,
   "id": "3c9c8f61",
   "metadata": {},
   "outputs": [],
   "source": []
  },
  {
   "cell_type": "markdown",
   "id": "41fbc642",
   "metadata": {},
   "source": [
    "A common error is to use a single equal sign (`=`) instead of a double equal sign (`==`).\n",
    "Remember that `=` assigns a value to a variable and `==` compares two values. "
   ]
  },
  {
   "cell_type": "code",
   "execution_count": null,
   "id": "c0e51bcc",
   "metadata": {},
   "outputs": [],
   "source": []
  },
  {
   "cell_type": "code",
   "execution_count": null,
   "id": "a6be44db",
   "metadata": {},
   "outputs": [],
   "source": []
  },
  {
   "cell_type": "markdown",
   "id": "d3ec6b48",
   "metadata": {},
   "source": [
    "`True` and `False` are special values that belong to the type `bool`;\n",
    "they are not strings:"
   ]
  },
  {
   "cell_type": "code",
   "execution_count": null,
   "id": "90fb1c9c",
   "metadata": {},
   "outputs": [],
   "source": []
  },
  {
   "cell_type": "code",
   "execution_count": null,
   "id": "c1cae572",
   "metadata": {},
   "outputs": [],
   "source": []
  },
  {
   "cell_type": "markdown",
   "id": "451b2e8d",
   "metadata": {},
   "source": [
    "The `==` operator is one of the **relational operators**; the others are:"
   ]
  },
  {
   "cell_type": "code",
   "execution_count": null,
   "id": "c901fe2b",
   "metadata": {},
   "outputs": [],
   "source": []
  },
  {
   "cell_type": "markdown",
   "id": "31cbbe1d-252c-4c41-b741-d05ae1c6fdea",
   "metadata": {
    "editable": true,
    "slideshow": {
     "slide_type": ""
    },
    "tags": []
   },
   "source": [
    "## Logical operators"
   ]
  },
  {
   "cell_type": "markdown",
   "id": "ddf2df1e-91b5-4b48-ab27-27066fa37d9e",
   "metadata": {},
   "source": [
    "To combine boolean values into expressions, we can use **logical operators**.\n",
    "The most common are `and`, ` or`, and `not`. These are binary operators which compare two boolean values. For example, consider two boolean variables `x` and `y`. Then `x and y` is true if both `x` and `y` are true, otherwise, it's false. While `x or y` is true is either `x` or `y` is true. These relationships can be summarized in a **truth table**.\n",
    "\n",
    "| and   | True | False |\n",
    "|-------|------|-------|\n",
    "| True  |      |       |\n",
    "| False |      |       |\n",
    "\n",
    "| or   | True | False |\n",
    "|-------|------|-------|\n",
    "| True  |      |       |\n",
    "| False |      |       |\n",
    "\n",
    "| xor   | True | False |\n",
    "|-------|------|-------|\n",
    "| True  |      |       |\n",
    "| False |      |       |\n",
    "\n",
    "The value of the following expression is `True` only if `x` is greater than `0` *and* less than `10`."
   ]
  },
  {
   "cell_type": "code",
   "execution_count": null,
   "id": "848c5f2c",
   "metadata": {
    "editable": true,
    "slideshow": {
     "slide_type": ""
    },
    "tags": []
   },
   "outputs": [],
   "source": []
  },
  {
   "cell_type": "markdown",
   "id": "e8c14026",
   "metadata": {},
   "source": [
    "The following expression is `True` if *either or both* of the conditions is true, that is, if the number is divisible by 2 *or* 3:"
   ]
  },
  {
   "cell_type": "code",
   "execution_count": null,
   "id": "eb66ee6a",
   "metadata": {},
   "outputs": [],
   "source": []
  },
  {
   "cell_type": "markdown",
   "id": "3bd0ef52",
   "metadata": {},
   "source": [
    "Finally, the `not` operator negates a boolean expression, so the following expression is `True` if `x > y` is `False`."
   ]
  },
  {
   "cell_type": "code",
   "execution_count": null,
   "id": "6de8b97c",
   "metadata": {},
   "outputs": [],
   "source": []
  },
  {
   "cell_type": "markdown",
   "id": "fc6098c2",
   "metadata": {},
   "source": [
    "Strictly speaking, the operands of a logical operator should be boolean expressions, but Python is not very strict.\n",
    "Any nonzero number is interpreted as `True`:"
   ]
  },
  {
   "cell_type": "code",
   "execution_count": null,
   "id": "add63275",
   "metadata": {},
   "outputs": [],
   "source": []
  },
  {
   "cell_type": "markdown",
   "id": "102ceab9",
   "metadata": {},
   "source": [
    "This flexibility can be useful, but there are some subtleties to it that can be confusing.\n",
    "You might want to avoid it. Also note the order of operations."
   ]
  },
  {
   "cell_type": "code",
   "execution_count": null,
   "id": "58b39b89-3608-4a1b-a104-e0479e699b52",
   "metadata": {},
   "outputs": [],
   "source": []
  },
  {
   "cell_type": "markdown",
   "id": "f3010764-4113-4108-ad07-58ab8f405658",
   "metadata": {},
   "source": [
    "In the above expression, if the `or` is executed first, then you end up with `True and False` which is `False`. However, if the `and` is executed first, then you end up with `True or False` which is `True`. So, the `and` statement is executed first. Lastly, the `not` operator is applied before `and` and `or`."
   ]
  },
  {
   "cell_type": "markdown",
   "id": "4c507383-9a49-4181-815a-11d936951bd2",
   "metadata": {
    "editable": true,
    "slideshow": {
     "slide_type": ""
    },
    "tags": []
   },
   "source": [
    "## `if` statements"
   ]
  },
  {
   "cell_type": "markdown",
   "id": "6b0f2dc1",
   "metadata": {
    "editable": true,
    "slideshow": {
     "slide_type": ""
    },
    "tags": []
   },
   "source": [
    "In order to write useful programs, we almost always need the ability to\n",
    "check conditions and change the behavior of the program accordingly.\n",
    "**Conditional statements** give us this ability. The simplest form is\n",
    "the `if` statement:"
   ]
  },
  {
   "cell_type": "code",
   "execution_count": null,
   "id": "80937bef",
   "metadata": {
    "editable": true,
    "slideshow": {
     "slide_type": ""
    },
    "tags": []
   },
   "outputs": [],
   "source": []
  },
  {
   "cell_type": "markdown",
   "id": "973f705e",
   "metadata": {},
   "source": [
    "`if` is a Python keyword.\n",
    "`if` statements have the same structure as function definitions: a\n",
    "header followed by an indented statement or sequence of statements called a **block**.\n",
    "\n",
    "The boolean expression after `if` is called the **condition**.\n",
    "If it is true, the statements in the indented block run. If not, they don't.\n",
    "\n",
    "There is no limit to the number of statements that can appear in the block, but there has to be at least one.\n",
    "Occasionally, it is useful to have a block that does nothing -- usually as a place keeper for code you haven't written yet.\n",
    "In that case, you can use the `pass` statement, which does nothing."
   ]
  },
  {
   "cell_type": "code",
   "execution_count": null,
   "id": "bc74a318",
   "metadata": {},
   "outputs": [],
   "source": []
  },
  {
   "cell_type": "markdown",
   "id": "adf3f6c5",
   "metadata": {},
   "source": [
    "The word `TODO` in a comment is a conventional reminder that there's something you need to do later."
   ]
  },
  {
   "cell_type": "markdown",
   "id": "8937221d-f43f-4d8f-9546-5edab9d49e2a",
   "metadata": {
    "editable": true,
    "slideshow": {
     "slide_type": ""
    },
    "tags": []
   },
   "source": [
    "## The `else` clause"
   ]
  },
  {
   "cell_type": "markdown",
   "id": "eb39bcd9",
   "metadata": {
    "editable": true,
    "slideshow": {
     "slide_type": ""
    },
    "tags": []
   },
   "source": [
    "An `if` statement can have a second part, called an `else` clause.\n",
    "The syntax looks like this:"
   ]
  },
  {
   "cell_type": "code",
   "execution_count": null,
   "id": "d16f49f2",
   "metadata": {
    "editable": true,
    "slideshow": {
     "slide_type": ""
    },
    "tags": []
   },
   "outputs": [],
   "source": []
  },
  {
   "cell_type": "markdown",
   "id": "e7dc8943",
   "metadata": {},
   "source": [
    "If the condition is true, the first indented statement runs; otherwise, the second indented statement runs.\n",
    "\n",
    "In this example, if `x` is even, the remainder when `x` is divided by `2` is `0`, so the condition is true and the program displays `x is even`.\n",
    "If `x` is odd, the remainder is `1`, so the condition\n",
    "is false, and the program displays `x is odd`.\n",
    "\n",
    "Since the condition must be true or false, exactly one of the alternatives will run. \n",
    "The alternatives are called **branches**."
   ]
  },
  {
   "cell_type": "markdown",
   "id": "1f8db548-645a-4fe7-ba05-f53ef67a5442",
   "metadata": {
    "editable": true,
    "slideshow": {
     "slide_type": ""
    },
    "tags": []
   },
   "source": [
    "## Chained conditionals"
   ]
  },
  {
   "cell_type": "markdown",
   "id": "20c8adb6",
   "metadata": {
    "editable": true,
    "slideshow": {
     "slide_type": ""
    },
    "tags": []
   },
   "source": [
    "Sometimes there are more than two possibilities and we need more than two branches.\n",
    "One way to express a computation like that is a **chained conditional**, which includes an `elif` clause."
   ]
  },
  {
   "cell_type": "code",
   "execution_count": null,
   "id": "309fccb8",
   "metadata": {
    "editable": true,
    "slideshow": {
     "slide_type": ""
    },
    "tags": []
   },
   "outputs": [],
   "source": []
  },
  {
   "cell_type": "markdown",
   "id": "46916379",
   "metadata": {},
   "source": [
    "`elif` is an abbreviation of \"else if\".\n",
    "There is no limit on the number of `elif` clauses.\n",
    "If there is an `else` clause, it has to be at the end, but there doesn't have to be\n",
    "one.\n",
    "\n",
    "Each condition is checked in order.\n",
    "If the first is false, the next is checked, and so on.\n",
    "If one of them is true, the corresponding branch runs and the `if` statement ends.\n",
    "Even if more than one condition is true, only the first true branch runs."
   ]
  },
  {
   "cell_type": "markdown",
   "id": "5f12b2af-878d-41dc-b141-62c205bac252",
   "metadata": {
    "editable": true,
    "slideshow": {
     "slide_type": ""
    },
    "tags": []
   },
   "source": [
    "## Nested Conditionals"
   ]
  },
  {
   "cell_type": "markdown",
   "id": "e0c0b9dd",
   "metadata": {
    "editable": true,
    "slideshow": {
     "slide_type": ""
    },
    "tags": []
   },
   "source": [
    "One conditional can also be nested within another.\n",
    "We could have written the example in the previous section like this:"
   ]
  },
  {
   "cell_type": "code",
   "execution_count": null,
   "id": "d77539cf",
   "metadata": {
    "editable": true,
    "slideshow": {
     "slide_type": ""
    },
    "tags": []
   },
   "outputs": [],
   "source": []
  },
  {
   "cell_type": "markdown",
   "id": "29f67a0a",
   "metadata": {},
   "source": [
    "The outer `if` statement contains two branches. \n",
    "The first branch contains a simple statement. The second branch contains another `if` statement, which has two branches of its own.\n",
    "Those two branches are both simple statements, although they could have been conditional statements as well.\n",
    "\n",
    "Although the indentation of the statements makes the structure apparent, **nested conditionals** can be difficult to read.\n",
    "I suggest you avoid them when you can.\n",
    "\n",
    "Logical operators often provide a way to simplify nested conditional statements.\n",
    "Here's an example with a nested conditional."
   ]
  },
  {
   "cell_type": "code",
   "execution_count": null,
   "id": "91cac1a0",
   "metadata": {},
   "outputs": [],
   "source": []
  },
  {
   "cell_type": "markdown",
   "id": "5292eb11",
   "metadata": {},
   "source": [
    "The `print` statement runs only if we make it past both conditionals, so we get the same effect with the `and` operator."
   ]
  },
  {
   "cell_type": "code",
   "execution_count": null,
   "id": "f8ba1724",
   "metadata": {},
   "outputs": [],
   "source": []
  },
  {
   "cell_type": "markdown",
   "id": "dd8e808a",
   "metadata": {},
   "source": [
    "For this kind of condition, Python provides a more concise option:"
   ]
  },
  {
   "cell_type": "code",
   "execution_count": null,
   "id": "014cd6f4",
   "metadata": {},
   "outputs": [],
   "source": []
  },
  {
   "cell_type": "markdown",
   "id": "08bd77f5-d9bd-42cd-b281-972fcad224d0",
   "metadata": {
    "editable": true,
    "slideshow": {
     "slide_type": ""
    },
    "tags": []
   },
   "source": [
    "## Keyboard input"
   ]
  },
  {
   "cell_type": "markdown",
   "id": "45299414",
   "metadata": {
    "editable": true,
    "slideshow": {
     "slide_type": ""
    },
    "tags": []
   },
   "source": [
    "The programs we have written so far accept no input from the user. They\n",
    "just do the same thing every time.\n",
    "\n",
    "Python provides a built-in function called `input` that stops the\n",
    "program and waits for the user to type something. When the user presses\n",
    "*Return* or *Enter*, the program resumes and `input` returns what the user\n",
    "typed as a string."
   ]
  },
  {
   "cell_type": "code",
   "execution_count": null,
   "id": "f6a2e4d6",
   "metadata": {
    "editable": true,
    "slideshow": {
     "slide_type": ""
    },
    "tags": []
   },
   "outputs": [],
   "source": []
  },
  {
   "cell_type": "markdown",
   "id": "acf9ec53",
   "metadata": {},
   "source": [
    "Before getting input from the user, you might want to display a prompt\n",
    "telling the user what to type. `input` can take a prompt as an argument:"
   ]
  },
  {
   "cell_type": "code",
   "execution_count": null,
   "id": "964346f0",
   "metadata": {
    "editable": true,
    "slideshow": {
     "slide_type": ""
    },
    "tags": []
   },
   "outputs": [],
   "source": []
  },
  {
   "cell_type": "markdown",
   "id": "1b754b39",
   "metadata": {},
   "source": [
    "The sequence `\\n` at the end of the prompt represents a **newline**, which is a special character that causes a line break -- that way the user's input appears below the prompt.\n",
    "\n",
    "If you expect the user to type an integer, you can use the `int` function to convert the return value to `int`."
   ]
  },
  {
   "cell_type": "code",
   "execution_count": null,
   "id": "60a484d7",
   "metadata": {
    "editable": true,
    "slideshow": {
     "slide_type": ""
    },
    "tags": []
   },
   "outputs": [],
   "source": []
  },
  {
   "cell_type": "markdown",
   "id": "0a65f2af",
   "metadata": {},
   "source": [
    "But if they type something that's not an integer, you'll get a runtime error."
   ]
  },
  {
   "cell_type": "code",
   "execution_count": null,
   "id": "a04e3016",
   "metadata": {
    "editable": true,
    "slideshow": {
     "slide_type": ""
    },
    "tags": [
     "raises-exception"
    ]
   },
   "outputs": [],
   "source": []
  },
  {
   "cell_type": "markdown",
   "id": "a4ce3ed5",
   "metadata": {},
   "source": [
    "We will see how to handle this kind of error later."
   ]
  },
  {
   "cell_type": "markdown",
   "id": "74fd1a49-9c8f-4c8e-a080-d2129262cee5",
   "metadata": {},
   "source": [
    "## Random numbers"
   ]
  },
  {
   "cell_type": "markdown",
   "id": "13aa85d9-9e3e-4271-a11d-a1d0c92ad500",
   "metadata": {},
   "source": [
    "What is random? How can we program a computer to create a \"random\" number? The `random` module includes a **pseudo-random** number generator. Specifically, we can use `randint(a, b)` to generate a pseudo-random integer from $a$ to $b$ (inclusive)."
   ]
  },
  {
   "cell_type": "code",
   "execution_count": null,
   "id": "e6cd160a-3efa-423f-947d-c7998d895ce1",
   "metadata": {},
   "outputs": [],
   "source": []
  },
  {
   "cell_type": "markdown",
   "id": "5a614adb-a5b1-4b89-a81d-aafdeaef2d57",
   "metadata": {},
   "source": [
    "The above example could be used to simulate rolling a six-sided die."
   ]
  },
  {
   "cell_type": "markdown",
   "id": "c275f584-7846-4ca0-833f-2583bed1adb7",
   "metadata": {
    "editable": true,
    "jp-MarkdownHeadingCollapsed": true,
    "slideshow": {
     "slide_type": ""
    },
    "tags": []
   },
   "source": [
    "## Debugging"
   ]
  },
  {
   "cell_type": "markdown",
   "id": "14c1d3dc",
   "metadata": {
    "editable": true,
    "slideshow": {
     "slide_type": ""
    },
    "tags": []
   },
   "source": [
    "When a syntax or runtime error occurs, the error message contains a lot\n",
    "of information, but it can be overwhelming. The most useful parts are\n",
    "usually:\n",
    "\n",
    "-   What kind of error it was, and\n",
    "\n",
    "-   Where it occurred.\n",
    "\n",
    "Syntax errors are usually easy to find, but there are a few gotchas.\n",
    "Errors related to spaces and tabs can be tricky because they are invisible\n",
    "and we are used to ignoring them."
   ]
  },
  {
   "cell_type": "code",
   "execution_count": null,
   "id": "b82642f6",
   "metadata": {
    "editable": true,
    "slideshow": {
     "slide_type": ""
    },
    "tags": [
     "raises-exception"
    ]
   },
   "outputs": [],
   "source": [
    "x = 5\n",
    " y = 6"
   ]
  },
  {
   "cell_type": "markdown",
   "id": "d1d06263",
   "metadata": {},
   "source": [
    "In this example, the problem is that the second line is indented by one space.\n",
    "But the error message points to `y`, which is misleading.\n",
    "Error messages indicate where the problem was discovered, but the actual error might be earlier in the code.\n",
    "\n",
    "The same is true of runtime errors. \n",
    "For example, suppose you are trying to convert a ratio to decibels, like this:"
   ]
  },
  {
   "cell_type": "code",
   "execution_count": null,
   "id": "583ef53c",
   "metadata": {
    "tags": []
   },
   "outputs": [],
   "source": [
    "%xmode Context"
   ]
  },
  {
   "cell_type": "code",
   "execution_count": null,
   "id": "2f4b6082",
   "metadata": {
    "editable": true,
    "slideshow": {
     "slide_type": ""
    },
    "tags": [
     "raises-exception"
    ]
   },
   "outputs": [],
   "source": [
    "import math\n",
    "numerator = 9\n",
    "denominator = 10\n",
    "ratio = numerator // denominator\n",
    "decibels = 10 * math.log10(ratio)"
   ]
  },
  {
   "cell_type": "markdown",
   "id": "55914374",
   "metadata": {},
   "source": [
    "The error message indicates line 5, but there is nothing wrong with that line.\n",
    "The problem is in line 4, which uses integer division instead of floating-point division -- as a result, the value of `ratio` is `0`.\n",
    "When we call `math.log10`, we get a `ValueError` with the message `math domain error`, because `0` is not in the \"domain\" of valid arguments for `math.log10`, because the logarithm of `0` is undefined.\n",
    "\n",
    "In general, you should take the time to read error messages carefully, but don't assume that everything they say is correct."
   ]
  },
  {
   "cell_type": "markdown",
   "id": "e83899a2-a29e-4792-a81e-285bf64f379f",
   "metadata": {
    "editable": true,
    "jp-MarkdownHeadingCollapsed": true,
    "slideshow": {
     "slide_type": ""
    },
    "tags": []
   },
   "source": [
    "## Glossary"
   ]
  },
  {
   "cell_type": "markdown",
   "id": "8ffe690e",
   "metadata": {
    "editable": true,
    "slideshow": {
     "slide_type": ""
    },
    "tags": []
   },
   "source": [
    "**recursion:**\n",
    "The process of calling the function that is currently executing.\n",
    "\n",
    "**modulus operator:**\n",
    "An operator, `%`, that works on integers and returns the remainder when one number is divided by another.\n",
    "\n",
    "**boolean expression:**\n",
    "An expression whose value is either `True` or `False`.\n",
    "\n",
    "**relational operator:**\n",
    "One of the operators that compares its operands: `==`, `!=`, `>`, `<`, `>=`, and `<=`.\n",
    "\n",
    "**logical operator:**\n",
    "One of the operators that combines boolean expressions, including `and`, `or`, and `not`.\n",
    "\n",
    "**conditional statement:**\n",
    "A statement that controls the flow of execution depending on some condition.\n",
    "\n",
    "**condition:**\n",
    "The boolean expression in a conditional statement that determines which branch runs.\n",
    "\n",
    "**block:**\n",
    "One or more statements indented to indicate they are part of another statement.\n",
    "\n",
    "**branch:**\n",
    "One of the alternative sequences of statements in a conditional statement.\n",
    "\n",
    "**chained conditional:**\n",
    "A conditional statement with a series of alternative branches.\n",
    "\n",
    "**nested conditional:**\n",
    "A conditional statement that appears in one of the branches of another conditional statement.\n",
    "\n",
    "**recursive:**\n",
    "A function that calls itself is recursive.\n",
    "\n",
    "**base case:**\n",
    "A conditional branch in a recursive function that does not make a recursive call.\n",
    "\n",
    "**infinite recursion:**\n",
    "A recursion that doesn't have a base case, or never reaches it.\n",
    "Eventually, an infinite recursion causes a runtime error.\n",
    "\n",
    "**newline:**\n",
    "A character that creates a line break between two parts of a string."
   ]
  },
  {
   "cell_type": "markdown",
   "id": "8d783953",
   "metadata": {
    "editable": true,
    "slideshow": {
     "slide_type": ""
    },
    "tags": []
   },
   "source": [
    "## Exercises"
   ]
  },
  {
   "cell_type": "code",
   "execution_count": null,
   "id": "66aae3cb",
   "metadata": {
    "tags": []
   },
   "outputs": [],
   "source": [
    "# This cell tells Jupyter to provide detailed debugging information\n",
    "# when a runtime error occurs. Run it before working on the exercises.\n",
    "\n",
    "%xmode Verbose"
   ]
  },
  {
   "cell_type": "markdown",
   "id": "02f9f1d7",
   "metadata": {},
   "source": [
    "### Ask a virtual assistant\n",
    "\n",
    "* Ask a virtual assistant, \"What are some uses of the modulus operator?\"\n",
    "\n",
    "* Python provides operators to compute the logical operations `and`, `or`, and `not`, but it doesn't have an operator that computes the exclusive `or` operation, usually written `xor`. Ask an assistant \"What is the logical xor operation and how do I compute it in Python?\"\n",
    "\n",
    "In this chapter, we saw two ways to write an `if` statement with three branches, using a chained conditional or a nested conditional.\n",
    "You can use a virtual assistant to convert from one to the other.\n",
    "For example, ask a VA, \"Convert this statement to a chained conditional.\""
   ]
  },
  {
   "cell_type": "code",
   "execution_count": null,
   "id": "ade1ecb4",
   "metadata": {
    "tags": []
   },
   "outputs": [],
   "source": [
    "x = 5\n",
    "y = 7"
   ]
  },
  {
   "cell_type": "code",
   "execution_count": null,
   "id": "dc7026c2",
   "metadata": {},
   "outputs": [],
   "source": [
    "if x == y:\n",
    "    print('x and y are equal')\n",
    "else:\n",
    "    if x < y:\n",
    "        print('x is less than y')\n",
    "    else:\n",
    "        print('x is greater than y')"
   ]
  },
  {
   "cell_type": "markdown",
   "id": "9c2a8466",
   "metadata": {},
   "source": [
    "Ask a VA, \"Rewrite this statement with a single conditional.\""
   ]
  },
  {
   "cell_type": "code",
   "execution_count": null,
   "id": "1fd919ea",
   "metadata": {},
   "outputs": [],
   "source": [
    "if 0 < x:\n",
    "    if x < 10:\n",
    "        print('x is a positive single-digit number.')"
   ]
  },
  {
   "cell_type": "markdown",
   "id": "e0fbed08",
   "metadata": {},
   "source": [
    "See if a VA can simplify this unnecessary complexity."
   ]
  },
  {
   "cell_type": "code",
   "execution_count": null,
   "id": "1e71702e",
   "metadata": {},
   "outputs": [],
   "source": [
    "if not x <= 0 and not x >= 10:\n",
    "    print('x is a positive single-digit number.')"
   ]
  },
  {
   "cell_type": "markdown",
   "id": "6b1fd514",
   "metadata": {},
   "source": [
    "### Exercise\n",
    "\n",
    "If you are given three sticks, you may or may not be able to arrange\n",
    "them in a triangle. For example, if one of the sticks is 12 inches long\n",
    "and the other two are one inch long, you will not be able to get the\n",
    "short sticks to meet in the middle. For any three lengths, there is a\n",
    "test to see if it is possible to form a triangle:\n",
    "\n",
    "> If any of the three lengths is greater than the sum of the other two,\n",
    "> then you cannot form a triangle. Otherwise, you can. (If the sum of\n",
    "> two lengths equals the third, they form what is called a \"degenerate\"\n",
    "> triangle.)\n",
    "\n",
    "Write a function named `is_triangle` that takes three integers as\n",
    "arguments, and that prints either \"Yes\" or \"No\", depending on\n",
    "whether you can or cannot form a triangle from sticks with the given\n",
    "lengths. Hint: Use a chained conditional.\n",
    "\n"
   ]
  },
  {
   "cell_type": "code",
   "execution_count": null,
   "id": "06381639",
   "metadata": {
    "tags": []
   },
   "outputs": [],
   "source": [
    "# Solution goes here"
   ]
  },
  {
   "cell_type": "markdown",
   "id": "2842401c",
   "metadata": {
    "tags": []
   },
   "source": [
    "Test your function with the following cases."
   ]
  },
  {
   "cell_type": "code",
   "execution_count": null,
   "id": "156273af",
   "metadata": {
    "tags": []
   },
   "outputs": [],
   "source": [
    "is_triangle(4, 5, 6)   # should be Yes"
   ]
  },
  {
   "cell_type": "code",
   "execution_count": null,
   "id": "e00793f4",
   "metadata": {
    "tags": []
   },
   "outputs": [],
   "source": [
    "is_triangle(1, 2, 3)   # should be Yes"
   ]
  },
  {
   "cell_type": "code",
   "execution_count": null,
   "id": "d2911c71",
   "metadata": {
    "tags": []
   },
   "outputs": [],
   "source": [
    "is_triangle(6, 2, 3)   # should be No"
   ]
  },
  {
   "cell_type": "code",
   "execution_count": null,
   "id": "2b05586e",
   "metadata": {
    "tags": []
   },
   "outputs": [],
   "source": [
    "is_triangle(1, 1, 12)   # should be No"
   ]
  },
  {
   "cell_type": "markdown",
   "id": "680ea995-35d4-4b12-9e36-5f87155e67ce",
   "metadata": {},
   "source": []
  },
  {
   "cell_type": "markdown",
   "id": "2e9975c6-eb5b-4a19-92f9-c4ba07813e18",
   "metadata": {
    "editable": true,
    "jp-MarkdownHeadingCollapsed": true,
    "slideshow": {
     "slide_type": ""
    },
    "tags": []
   },
   "source": [
    "## Credits"
   ]
  },
  {
   "cell_type": "markdown",
   "id": "a7f4edf8",
   "metadata": {
    "editable": true,
    "slideshow": {
     "slide_type": ""
    },
    "tags": []
   },
   "source": [
    "Adapted from [Think Python: 3rd Edition](https://allendowney.github.io/ThinkPython/index.html) by [Allen B. Downey](https://allendowney.com)\n",
    "\n",
    "Code license: [MIT License](https://mit-license.org/)\n",
    "\n",
    "Text license: [Creative Commons Attribution-NonCommercial-ShareAlike 4.0 International](https://creativecommons.org/licenses/by-nc-sa/4.0/)"
   ]
  }
 ],
 "metadata": {
  "celltoolbar": "Tags",
  "kernelspec": {
   "display_name": "Python 3 (ipykernel)",
   "language": "python",
   "name": "python3"
  },
  "language_info": {
   "codemirror_mode": {
    "name": "ipython",
    "version": 3
   },
   "file_extension": ".py",
   "mimetype": "text/x-python",
   "name": "python",
   "nbconvert_exporter": "python",
   "pygments_lexer": "ipython3",
   "version": "3.13.7"
  }
 },
 "nbformat": 4,
 "nbformat_minor": 5
}
