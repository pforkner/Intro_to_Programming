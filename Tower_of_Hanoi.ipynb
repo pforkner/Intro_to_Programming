{
 "cells": [
  {
   "cell_type": "markdown",
   "id": "fade9bd3-b469-4715-a455-5d0afd0c2937",
   "metadata": {},
   "source": [
    "# Tower of Hanoi\n",
    "\n",
    "Math is fun: [Play Tower of Hanoi](https://www.mathsisfun.com/games/towerofhanoi.html)\n",
    "\n",
    "Wikipedia: [Tower of Hanoi](https://en.wikipedia.org/wiki/Tower_of_Hanoi)\n",
    "\n",
    "CSBS: [hanoi](https://www.codestepbystep.com/r/problem/view/python/recursion/hanoi?problemsetid=11391)"
   ]
  },
  {
   "cell_type": "code",
   "execution_count": null,
   "id": "1ace74c3-4654-4b6a-bdf1-58367e5e7f20",
   "metadata": {},
   "outputs": [],
   "source": []
  }
 ],
 "metadata": {
  "kernelspec": {
   "display_name": "Python 3 (ipykernel)",
   "language": "python",
   "name": "python3"
  },
  "language_info": {
   "codemirror_mode": {
    "name": "ipython",
    "version": 3
   },
   "file_extension": ".py",
   "mimetype": "text/x-python",
   "name": "python",
   "nbconvert_exporter": "python",
   "pygments_lexer": "ipython3",
   "version": "3.13.5"
  }
 },
 "nbformat": 4,
 "nbformat_minor": 5
}
