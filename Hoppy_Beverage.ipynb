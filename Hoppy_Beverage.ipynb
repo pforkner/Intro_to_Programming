{
 "cells": [
  {
   "cell_type": "markdown",
   "id": "87d4ad96-a4c8-47e0-b2bf-49a69aecd93f",
   "metadata": {},
   "source": [
    "Names:\n",
    "\n",
    "Date:"
   ]
  },
  {
   "cell_type": "markdown",
   "id": "34aebc6d-4835-4007-94cc-a99e832a1e5f",
   "metadata": {},
   "source": [
    "# Hoppy Beverage\n",
    "\n",
    "Suppose you are trying to buy ingredients for a recipe. The recipe you have brews 5 gallons of beverage and needs 15 oz of hops, 12.5 lbs of malt, and 1 packet of yeast. Hops are sold in pouches of 2 oz each for \\\\$4.20. You can buy the exact amount of malt at \\\\$1.75 per lb using a precise scale. Yeast packets are \\\\$3.59. How many pouches of hops, pounds of malt, and packets of yeast do you need to brew different numbers of gallons and how much will it cost? Assume that the ingredients scale linearly with the recipe i.e. if you double the number of gallons, you would double the quantities of all of the ingredients.\n",
    "\n",
    "Define the following functions in your notebook:\n",
    "\n",
    "```\n",
    "pouches_of_hops(gallons)\n",
    "pounds_of_malt(gallons)\n",
    "packets_of_yeast(gallons)\n",
    "total_cost(gallons)\n",
    "```\n",
    "\n",
    "Then, write a `main` function that calls the above functions to solve the problem statement. Create a variable in the main function named `my_gallons` which you can initialize with any number of gallons. Try initializing it to 7 to begin with. As a check, 7 gallons costs \\\\$84.00. Here is an example of what your program should output:\n",
    "\n",
    "```\n",
    "Gallons: 7.0\n",
    "Pouches of hops: 11\n",
    "Pounds of malt: 17.5\n",
    "Packets of yeast: 2\n",
    "Total cost: $84.00\n",
    "```\n",
    "\n",
    "Note that \"pouches\" and \"packets\" are integers and if you need a fraction of a pouch, you must round up to the next nearest integer. The math library has a `math.ceil` function. Make sure to `import math` at the top of your solution to use it. Below is an outline of a solution, `...` and `???` should be replaced with your code."
   ]
  },
  {
   "cell_type": "code",
   "execution_count": null,
   "id": "a399fa32-8d4e-4be8-a1ab-d26353ffe313",
   "metadata": {},
   "outputs": [],
   "source": [
    "import math"
   ]
  },
  {
   "cell_type": "code",
   "execution_count": null,
   "id": "5bc84e10-1b67-4a9c-bdcc-e358db6878de",
   "metadata": {},
   "outputs": [],
   "source": [
    "def pouches_of_hops(gallons):\n",
    "    ...\n",
    "    return ???"
   ]
  },
  {
   "cell_type": "code",
   "execution_count": null,
   "id": "5600596a-edd9-47c1-bd93-d86f582e1d1a",
   "metadata": {},
   "outputs": [],
   "source": [
    "def pounds_of_malt(gallons):\n",
    "    ...\n",
    "    return ???"
   ]
  },
  {
   "cell_type": "code",
   "execution_count": null,
   "id": "3843defa-45e3-4d46-8575-f66153175314",
   "metadata": {},
   "outputs": [],
   "source": [
    "def packets_of_yeast(gallons):\n",
    "    ...\n",
    "    return ???"
   ]
  },
  {
   "cell_type": "code",
   "execution_count": null,
   "id": "92f595c9-6907-441b-a604-4891f22ba006",
   "metadata": {},
   "outputs": [],
   "source": [
    "def total_cost(gallons):\n",
    "    ...\n",
    "    return ???"
   ]
  },
  {
   "cell_type": "code",
   "execution_count": null,
   "id": "39c20395-038c-4f9a-bd64-3d671aadeb2f",
   "metadata": {},
   "outputs": [],
   "source": [
    "def main():\n",
    "    my_gallons = 7\n",
    "    print('Gallons:', my_gallons)\n",
    "    print('Pouches of hops:', pouches_of_hops(my_gallons))\n",
    "\n",
    "    ...\n",
    "\n",
    "    "
   ]
  },
  {
   "cell_type": "markdown",
   "id": "68532434-5ac8-4d4d-b766-6bdf3c77f581",
   "metadata": {},
   "source": [
    "# Pair Programming or Code Review Documentation"
   ]
  },
  {
   "cell_type": "markdown",
   "id": "025aa5d5-5239-4010-a444-f39e427eb188",
   "metadata": {},
   "source": [
    "Put your documention here."
   ]
  }
 ],
 "metadata": {
  "kernelspec": {
   "display_name": "Python 3 (ipykernel)",
   "language": "python",
   "name": "python3"
  },
  "language_info": {
   "codemirror_mode": {
    "name": "ipython",
    "version": 3
   },
   "file_extension": ".py",
   "mimetype": "text/x-python",
   "name": "python",
   "nbconvert_exporter": "python",
   "pygments_lexer": "ipython3",
   "version": "3.13.5"
  }
 },
 "nbformat": 4,
 "nbformat_minor": 5
}
