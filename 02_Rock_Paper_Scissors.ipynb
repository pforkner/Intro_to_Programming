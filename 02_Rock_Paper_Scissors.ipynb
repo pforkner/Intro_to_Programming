{
 "cells": [
  {
   "cell_type": "markdown",
   "id": "ed483e31-7f8c-40a0-b77f-e60c4de8d2da",
   "metadata": {},
   "source": [
    "Names: \n",
    "\n",
    "Date: "
   ]
  },
  {
   "cell_type": "markdown",
   "id": "835e461d-c247-497c-bf8e-8760c16fb26d",
   "metadata": {},
   "source": [
    "# Pair Programming: Rock, Paper, Scissors\n",
    "\n",
    "Rock, paper, scissors is a game played between two people where each person simultaneously picks either rock, paper, or scissors. A winner is determined by rock beats scissors (because it can smash the scissors), but it loses to paper (since paper covers the rock). Scissors beats paper (because it cuts paper).\n",
    "\n",
    "Using the `input` function, prompt the user for either a 1, 2, or 3 (for rock, paper, or scissors, respectively). Then, use `random.randint()` to generate a random computer choice of 1, 2, or 3. Determine who wins (including ties) using conditional statements and then print the outcome.\n",
    "\n",
    "Do not us AI. I want to see your own work and your thought process. Don't worry about being perfect, you will still get full credit."
   ]
  },
  {
   "cell_type": "code",
   "execution_count": 2,
   "id": "9be9bc62-454a-4d23-b6b8-117e4cfcf187",
   "metadata": {},
   "outputs": [],
   "source": [
    "# Person 1 solution (replace with your name)"
   ]
  },
  {
   "cell_type": "code",
   "execution_count": 3,
   "id": "0b76ace2-b10c-4d46-9363-98a052e22d0b",
   "metadata": {},
   "outputs": [],
   "source": [
    "# Person 2 solution (replace with your name)"
   ]
  },
  {
   "cell_type": "markdown",
   "id": "69f4067c-4202-4c25-b989-b1648659e97d",
   "metadata": {},
   "source": [
    "# Code Review\n",
    "\n",
    "Follow the template below. Replace \"Person x\" with your name. You may remove the bullet points. Also, feel free to talk about anything you like. The bullet points are suggestions. You can even follow the [session log template](https://pierce.instructure.com/courses/2658070/pages/pair-programming-and-code-review-partnership) if you want."
   ]
  },
  {
   "cell_type": "markdown",
   "id": "eddfefb2-7694-4703-979d-ce81c759a00b",
   "metadata": {},
   "source": [
    "## Person 1\n",
    "\n",
    "### Review of person 2\n",
    "- Does the code solve the problem correctly?\n",
    "- Is the logic easy to follow?\n",
    "- Are variable names descriptive?\n",
    "- What questions do you have about the approach?\n",
    "- Suggest one improvement and one thing done well\n",
    "\n",
    "### Response to person 2\n",
    "- Address each piece of feedback\n",
    "- Explain design choices the reviewer questioned\n",
    "- Implement agreed-upon changes\n",
    "- Thank your reviewer and note what you learned"
   ]
  },
  {
   "cell_type": "markdown",
   "id": "a4ef5683-8287-4adc-862d-8d60c2de5a4c",
   "metadata": {},
   "source": [
    "## Person 2\n",
    "\n",
    "### Review of person 1\n",
    "-\n",
    "\n",
    "### Response to person 1\n",
    "-"
   ]
  },
  {
   "cell_type": "markdown",
   "id": "5502ccbb-9a3b-4a2c-95cb-b8258ee0494b",
   "metadata": {},
   "source": [
    "# Comments to the Instructor\n",
    "\n",
    "Please write a sentence or two about your experience with this exercise."
   ]
  },
  {
   "cell_type": "markdown",
   "id": "558f7c57-3341-4a49-b6fd-f0c27d54f042",
   "metadata": {},
   "source": [
    "# Instructor Comments\n",
    "\n",
    "- I will put comments here after you have submitted."
   ]
  },
  {
   "cell_type": "code",
   "execution_count": null,
   "id": "405745d0-98d7-464c-aea6-a1749b615ba1",
   "metadata": {},
   "outputs": [],
   "source": []
  }
 ],
 "metadata": {
  "kernelspec": {
   "display_name": "Python 3 (ipykernel)",
   "language": "python",
   "name": "python3"
  },
  "language_info": {
   "codemirror_mode": {
    "name": "ipython",
    "version": 3
   },
   "file_extension": ".py",
   "mimetype": "text/x-python",
   "name": "python",
   "nbconvert_exporter": "python",
   "pygments_lexer": "ipython3",
   "version": "3.13.7"
  }
 },
 "nbformat": 4,
 "nbformat_minor": 5
}
