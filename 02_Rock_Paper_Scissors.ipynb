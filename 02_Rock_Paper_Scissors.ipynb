{
 "cells": [
  {
   "cell_type": "markdown",
   "id": "ncXI-5W_QbaN",
   "metadata": {
    "id": "ncXI-5W_QbaN"
   },
   "source": [
    "Author:\n",
    "\n",
    "Reviewer:\n",
    "\n",
    "Date:"
   ]
  },
  {
   "cell_type": "markdown",
   "id": "835e461d-c247-497c-bf8e-8760c16fb26d",
   "metadata": {
    "id": "835e461d-c247-497c-bf8e-8760c16fb26d"
   },
   "source": [
    "## Exercise: Rock, Paper, Scissors\n",
    "\n",
    "Rock, paper, scissors is a game played between two people where each person simultaneously picks either rock, paper, or scissors. A winner is determined by the following rules: rock beats scissors (because it can smash the scissors), but loses to paper (since paper covers the rock). Scissors beats paper (because it cuts paper).\n",
    "\n",
    "Using the `input` function, ask the user to enter a 1, 2, or 3 (for rock, paper, or scissors, respectively). Then, use `random.randint()` to generate a random computer choice of 1, 2, or 3. Determine who wins (including ties) using conditional statements and then print the outcome."
   ]
  },
  {
   "cell_type": "code",
   "execution_count": null,
   "id": "9be9bc62-454a-4d23-b6b8-117e4cfcf187",
   "metadata": {
    "id": "9be9bc62-454a-4d23-b6b8-117e4cfcf187"
   },
   "outputs": [],
   "source": [
    "# Solution goes here"
   ]
  },
  {
   "cell_type": "markdown",
   "id": "69f4067c-4202-4c25-b989-b1648659e97d",
   "metadata": {
    "id": "69f4067c-4202-4c25-b989-b1648659e97d"
   },
   "source": [
    "# Questions"
   ]
  },
  {
   "cell_type": "markdown",
   "id": "b430a545-223c-4250-8f42-501e8286ed0a",
   "metadata": {
    "id": "b430a545-223c-4250-8f42-501e8286ed0a"
   },
   "source": [
    "1.   How did you test program?\n",
    "2.   How did you share your program?\n"
   ]
  },
  {
   "cell_type": "markdown",
   "id": "UlId8iwtRBtF",
   "metadata": {
    "id": "UlId8iwtRBtF"
   },
   "source": [
    "# Code Review Partnership Template\n",
    "\n",
    "Both partners complete the code on their own and then share with each other."
   ]
  },
  {
   "cell_type": "markdown",
   "id": "lFjw7v8mQsR7",
   "metadata": {
    "id": "lFjw7v8mQsR7"
   },
   "source": [
    "## Reviewer Checklist:\n",
    "\n",
    "- Does the code solve the problem correctly?\n",
    "- Is the logic easy to follow?\n",
    "- Are variable names descriptive?\n",
    "- What questions do you have about the approach?\n",
    "- Suggest one improvement and one thing done well"
   ]
  },
  {
   "cell_type": "markdown",
   "id": "oEwhFZayRH7B",
   "metadata": {
    "id": "oEwhFZayRH7B"
   },
   "source": [
    "## Author Response:\n",
    "\n",
    "- Address each piece of feedback\n",
    "- Explain design choices the reviewer questioned\n",
    "- Implement agreed-upon changes\n",
    "- Thank your reviewer and note what you learned"
   ]
  }
 ],
 "metadata": {
  "colab": {
   "provenance": []
  },
  "kernelspec": {
   "display_name": "Python 3 (ipykernel)",
   "language": "python",
   "name": "python3"
  },
  "language_info": {
   "codemirror_mode": {
    "name": "ipython",
    "version": 3
   },
   "file_extension": ".py",
   "mimetype": "text/x-python",
   "name": "python",
   "nbconvert_exporter": "python",
   "pygments_lexer": "ipython3",
   "version": "3.13.7"
  }
 },
 "nbformat": 4,
 "nbformat_minor": 5
}
