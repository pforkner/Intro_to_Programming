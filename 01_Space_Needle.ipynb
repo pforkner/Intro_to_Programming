{
 "cells": [
  {
   "cell_type": "markdown",
   "id": "47a5570a-7ec1-4b79-b21c-3a2d2aa4edc2",
   "metadata": {},
   "source": [
    "Author:\n",
    "\n",
    "Reviewer:\n",
    "\n",
    "Date:"
   ]
  },
  {
   "cell_type": "markdown",
   "id": "160d6469-60c0-444c-b0c9-993868d4c124",
   "metadata": {},
   "source": [
    "# Pair Programming/Code Review: Space Needle"
   ]
  },
  {
   "cell_type": "markdown",
   "id": "0ced4cc7-1c52-46bc-90ef-f7d946471f30",
   "metadata": {},
   "source": [
    "## Instructions"
   ]
  },
  {
   "cell_type": "markdown",
   "id": "83bc2c34-eb94-40b9-9d52-0ad1c4705070",
   "metadata": {},
   "source": [
    "With your teammate(s), choose either the Pair Programming or Code Review template. Then write a complete Python program that prints the following figure as console output. Do not use AI/the internet to solve this problem. Instead, work together with your teammate(s).\n",
    "\n",
    "Use functions to capture the structure of the figure and to eliminate redundancy. For example, no complete line of output should be printed in two or more places in your code.\n",
    "\n",
    "Use string multiplcation or for loops to capture repeated patterns of characters within each line of output. For example, if you see a pattern of five ```/``` characters in a row, use string multiplication to repeat it 5 times. You could also use a for loop.\n",
    "\n",
    "You can check your code on the CSBS website: [Space Needle](https://www.codestepbystep.com/r/problem/view/python/loops/space_needle)."
   ]
  },
  {
   "cell_type": "markdown",
   "id": "de56b00f-ae4e-41ff-93f5-df0e161f934d",
   "metadata": {},
   "source": [
    "## Figure"
   ]
  },
  {
   "cell_type": "markdown",
   "id": "f8b6c8fe-b6eb-4a31-872e-1e97dfc564d5",
   "metadata": {},
   "source": [
    "```\n",
    "            ||\n",
    "            ||\n",
    "            ||\n",
    "            ||\n",
    "         __/||\\__\n",
    "      __/:::||:::\\__\n",
    "   __/::::::||::::::\\__\n",
    "__/:::::::::||:::::::::\\__\n",
    "|\"\"\"\"\"\"\"\"\"\"\"\"\"\"\"\"\"\"\"\"\"\"\"\"|\n",
    "\\_/\\/\\/\\/\\/\\/\\/\\/\\/\\/\\/\\_/\n",
    "  \\_/\\/\\/\\/\\/\\/\\/\\/\\/\\_/\n",
    "    \\_/\\/\\/\\/\\/\\/\\/\\_/\n",
    "      \\_/\\/\\/\\/\\/\\_/\n",
    "            ||\n",
    "            ||\n",
    "            ||\n",
    "            ||\n",
    "         |%%||%%|\n",
    "         |%%||%%|\n",
    "         |%%||%%|\n",
    "         |%%||%%|\n",
    "         |%%||%%|\n",
    "         |%%||%%|\n",
    "         |%%||%%|\n",
    "         |%%||%%|\n",
    "         |%%||%%|\n",
    "         |%%||%%|\n",
    "         |%%||%%|\n",
    "         |%%||%%|\n",
    "         |%%||%%|\n",
    "         |%%||%%|\n",
    "         |%%||%%|\n",
    "         |%%||%%|\n",
    "         __/||\\__\n",
    "      __/:::||:::\\__\n",
    "   __/::::::||::::::\\__\n",
    "__/:::::::::||:::::::::\\__\n",
    "|\"\"\"\"\"\"\"\"\"\"\"\"\"\"\"\"\"\"\"\"\"\"\"\"|\n",
    "```"
   ]
  },
  {
   "cell_type": "code",
   "execution_count": 1,
   "id": "26bf5a7b-2920-45a7-9679-de0d46ddee30",
   "metadata": {},
   "outputs": [],
   "source": [
    "# solution goes here"
   ]
  },
  {
   "cell_type": "markdown",
   "id": "8c00f5fb-8218-4c92-8c21-92b46c26cdb6",
   "metadata": {},
   "source": [
    "# Documentation"
   ]
  },
  {
   "cell_type": "markdown",
   "id": "3b7a6a87-c6a6-47cf-a69e-ba976daa0c92",
   "metadata": {},
   "source": [
    "Using the Pair Programming or Code Review templates, either put your session log (Pair Programming) here or the reviewer checklist and author responses (Code Review). Feel free to add/delete cells as you see fit."
   ]
  },
  {
   "cell_type": "markdown",
   "id": "1769dcd0-6cc2-47ec-9cce-950f891d6010",
   "metadata": {},
   "source": []
  }
 ],
 "metadata": {
  "kernelspec": {
   "display_name": "Python 3 (ipykernel)",
   "language": "python",
   "name": "python3"
  },
  "language_info": {
   "codemirror_mode": {
    "name": "ipython",
    "version": 3
   },
   "file_extension": ".py",
   "mimetype": "text/x-python",
   "name": "python",
   "nbconvert_exporter": "python",
   "pygments_lexer": "ipython3",
   "version": "3.13.7"
  }
 },
 "nbformat": 4,
 "nbformat_minor": 5
}
