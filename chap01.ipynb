{
 "cells": [
  {
   "cell_type": "markdown",
   "id": "704533e7",
   "metadata": {
    "colab_type": "text",
    "editable": true,
    "id": "view-in-github",
    "slideshow": {
     "slide_type": ""
    },
    "tags": []
   },
   "source": [
    "<a href=\"https://colab.research.google.com/github/pforkner/ThinkPython/blob/v3/chapters/chap01.ipynb\" target=\"_parent\"><img src=\"https://colab.research.google.com/assets/colab-badge.svg\" alt=\"Open In Colab\"/></a>"
   ]
  },
  {
   "cell_type": "markdown",
   "id": "1b1f37de-c023-448d-bafc-105ccba3a069",
   "metadata": {},
   "source": [
    "# Programming as a way of thinking"
   ]
  },
  {
   "cell_type": "markdown",
   "id": "333a6fc9",
   "metadata": {
    "editable": true,
    "id": "333a6fc9",
    "slideshow": {
     "slide_type": ""
    },
    "tags": []
   },
   "source": [
    "Wikipedia: [Computer](https://en.wikipedia.org/wiki/Computer)\n",
    "\n",
    "The first goal of this book is to teach you how to program in Python.\n",
    "But learning to program means learning a new way to think, so the second goal of this book is to help you think like a computer scientist.\n",
    "This way of thinking combines some of the best features of mathematics, engineering, and natural science.\n",
    "Like mathematicians, computer scientists use formal languages to denote ideas -- specifically computations.\n",
    "Like engineers, they design things, assembling components into systems and evaluating trade-offs among alternatives.\n",
    "Like scientists, they observe the behavior of complex systems, form hypotheses, and test predictions.\n",
    "\n",
    "We will start with the most basic elements of programming and work our way up.\n",
    "In this chapter, we'll see how Python represents numbers, letters, and words.\n",
    "And you'll learn to perform arithmetic operations.\n",
    "\n",
    "You will also start to learn the vocabulary of programming, including terms like operator, expression, value, and type.\n",
    "This vocabulary is important -- you will need it to understand the rest of the book, to communicate with other programmers, and to use and understand virtual assistants."
   ]
  },
  {
   "cell_type": "markdown",
   "id": "b0948260-5382-4aea-9145-fc61a373978c",
   "metadata": {},
   "source": [
    "## Arithmetic operators"
   ]
  },
  {
   "cell_type": "markdown",
   "id": "a371aea3",
   "metadata": {
    "id": "a371aea3"
   },
   "source": [
    "[W3Schools: Python Operators](https://www.w3schools.com/python/python_operators.asp)\n",
    "\n",
    "An **arithmetic operator** is a symbol that represents an arithmetic computation. For example, the plus sign, `+`, performs addition."
   ]
  },
  {
   "cell_type": "code",
   "execution_count": null,
   "id": "2568ec84",
   "metadata": {
    "colab": {
     "base_uri": "https://localhost:8080/"
    },
    "id": "2568ec84",
    "outputId": "ef36d87a-56d5-4239-8698-4136d224bf58"
   },
   "outputs": [],
   "source": []
  },
  {
   "cell_type": "markdown",
   "id": "fc0e7ce8",
   "metadata": {
    "id": "fc0e7ce8"
   },
   "source": [
    "The minus sign, `-`, is the operator that performs subtraction."
   ]
  },
  {
   "cell_type": "code",
   "execution_count": null,
   "id": "c4e75456",
   "metadata": {
    "colab": {
     "base_uri": "https://localhost:8080/"
    },
    "id": "c4e75456",
    "outputId": "48f99ea7-f41e-4b86-e26c-8ca8c12d6c8b"
   },
   "outputs": [],
   "source": []
  },
  {
   "cell_type": "markdown",
   "id": "63e4e780",
   "metadata": {
    "id": "63e4e780"
   },
   "source": [
    "The asterisk, `*`,  performs multiplication."
   ]
  },
  {
   "cell_type": "code",
   "execution_count": null,
   "id": "022a7b16",
   "metadata": {
    "colab": {
     "base_uri": "https://localhost:8080/"
    },
    "id": "022a7b16",
    "outputId": "3477ff04-b3fc-4124-80ab-db20db4fca78"
   },
   "outputs": [],
   "source": []
  },
  {
   "cell_type": "markdown",
   "id": "a6192d13",
   "metadata": {
    "id": "a6192d13"
   },
   "source": [
    "And the forward slash, `/`, performs division:"
   ]
  },
  {
   "cell_type": "code",
   "execution_count": null,
   "id": "05ae1098",
   "metadata": {
    "colab": {
     "base_uri": "https://localhost:8080/"
    },
    "id": "05ae1098",
    "outputId": "d3d23593-c6dc-41eb-c569-45e8360bce8c"
   },
   "outputs": [],
   "source": []
  },
  {
   "cell_type": "markdown",
   "id": "641ad233",
   "metadata": {
    "id": "641ad233"
   },
   "source": [
    "Notice that the result of the division is `42.0` rather than `42`. That's because there are two types of numbers in Python:\n",
    "\n",
    "* **integers**, which represent numbers with no fractional or decimal part, and\n",
    "\n",
    "* **floating-point numbers**, which represent integers and numbers with a decimal point.\n",
    "\n",
    "If you add, subtract, or multiply two integers, the result is an integer.\n",
    "But if you divide two integers, the result is a floating-point number.\n",
    "Python provides another operator, `//`, that performs **integer division** (also known as **floor division** because it always rounds down).\n",
    "The result of integer division is always an integer."
   ]
  },
  {
   "cell_type": "code",
   "execution_count": null,
   "id": "4df5bcaa",
   "metadata": {
    "colab": {
     "base_uri": "https://localhost:8080/"
    },
    "id": "4df5bcaa",
    "outputId": "d55a2fb0-5f53-40a7-8b18-2d80a1dd3c1a"
   },
   "outputs": [],
   "source": []
  },
  {
   "cell_type": "markdown",
   "id": "b2a620ab",
   "metadata": {
    "id": "b2a620ab"
   },
   "source": [
    "Integer division is also called \"floor division\" because it always rounds down (toward the \"floor\")."
   ]
  },
  {
   "cell_type": "code",
   "execution_count": null,
   "id": "ef08d549",
   "metadata": {
    "colab": {
     "base_uri": "https://localhost:8080/"
    },
    "id": "ef08d549",
    "outputId": "48c6c6f1-be7b-45b4-f602-ad6295899b09"
   },
   "outputs": [],
   "source": []
  },
  {
   "cell_type": "markdown",
   "id": "afe87795-3af7-4d26-af24-10dd7ee1b28d",
   "metadata": {},
   "source": [
    "You can also try negative numbers. Notice how it still rounds down (more negative)."
   ]
  },
  {
   "cell_type": "code",
   "execution_count": null,
   "id": "60029cc1-a0ce-466e-9308-efe625d91396",
   "metadata": {},
   "outputs": [],
   "source": []
  },
  {
   "cell_type": "markdown",
   "id": "41e2886a",
   "metadata": {
    "id": "41e2886a"
   },
   "source": [
    "The operator `**` performs exponentiation; that is, it raises a\n",
    "number to a power:"
   ]
  },
  {
   "cell_type": "code",
   "execution_count": null,
   "id": "df933e80",
   "metadata": {
    "colab": {
     "base_uri": "https://localhost:8080/"
    },
    "id": "df933e80",
    "outputId": "c5c2ef5e-dcf4-4f3e-ff9e-0677e1ce2d68"
   },
   "outputs": [],
   "source": []
  },
  {
   "cell_type": "markdown",
   "id": "b2502fb6",
   "metadata": {
    "id": "b2502fb6"
   },
   "source": [
    "In some other languages, the caret, `^`, is used for exponentiation, but in Python\n",
    "it is a bitwise operator called XOR.\n",
    "If you are not familiar with bitwise operators, the result might be unexpected:"
   ]
  },
  {
   "cell_type": "markdown",
   "id": "6bf59d8c-0776-412b-984c-c5441f8871ba",
   "metadata": {
    "colab": {
     "base_uri": "https://localhost:8080/"
    },
    "id": "306b6b88",
    "outputId": "ae1ca831-75ab-4186-b66e-eba485869d62"
   },
   "source": [
    "7 ^ 2"
   ]
  },
  {
   "cell_type": "markdown",
   "id": "30078370",
   "metadata": {
    "id": "30078370"
   },
   "source": [
    "I won't cover bitwise operators in this book, but you can read about\n",
    "them at <http://wiki.python.org/moin/BitwiseOperators>."
   ]
  },
  {
   "cell_type": "markdown",
   "id": "3af5baab-0e8f-413a-b853-1f9e5355af60",
   "metadata": {},
   "source": [
    "Lastly, there is the modulus operator, `%`. It returns the remainder after doing division."
   ]
  },
  {
   "cell_type": "code",
   "execution_count": null,
   "id": "daf5797b-123b-4a8a-9ea4-2cb0ee2df665",
   "metadata": {},
   "outputs": [],
   "source": []
  },
  {
   "cell_type": "markdown",
   "id": "721db218-bc5a-4e00-b710-3db5d9f190ca",
   "metadata": {},
   "source": [
    "## Expressions"
   ]
  },
  {
   "cell_type": "markdown",
   "id": "0f5b7e97",
   "metadata": {
    "id": "0f5b7e97"
   },
   "source": [
    "Order of operations: [PEMDAS](https://en.wikipedia.org/wiki/Order_of_operations#Mnemonics)\n",
    "\n",
    "A collection of operators and numbers is called an **expression**. An expression can contain any number of operators and numbers. For example, here's an expression that contains two operators."
   ]
  },
  {
   "cell_type": "code",
   "execution_count": null,
   "id": "6e68101d",
   "metadata": {
    "colab": {
     "base_uri": "https://localhost:8080/"
    },
    "id": "6e68101d",
    "outputId": "0c808025-9697-46a2-cb93-d82f7db40972"
   },
   "outputs": [],
   "source": []
  },
  {
   "cell_type": "markdown",
   "id": "8e95039c",
   "metadata": {
    "id": "8e95039c"
   },
   "source": [
    "Notice that exponentiation happens before addition.\n",
    "Python follows the order of operations you might have learned in a math class: exponentiation happens before multiplication and division, which happen before addition and subtraction.\n",
    "\n",
    "In the following example, multiplication happens before addition."
   ]
  },
  {
   "cell_type": "code",
   "execution_count": null,
   "id": "ffc25598",
   "metadata": {
    "colab": {
     "base_uri": "https://localhost:8080/"
    },
    "id": "ffc25598",
    "outputId": "4d62a02b-d94b-43b5-b461-e27b12b80cb8"
   },
   "outputs": [],
   "source": []
  },
  {
   "cell_type": "markdown",
   "id": "914a60d8",
   "metadata": {
    "id": "914a60d8"
   },
   "source": [
    "If you want the addition to happen first, you can use parentheses."
   ]
  },
  {
   "cell_type": "code",
   "execution_count": null,
   "id": "8dd1bd9a",
   "metadata": {
    "colab": {
     "base_uri": "https://localhost:8080/"
    },
    "id": "8dd1bd9a",
    "outputId": "95600706-68a9-4480-c85a-aab6121719a0"
   },
   "outputs": [],
   "source": []
  },
  {
   "cell_type": "markdown",
   "id": "67ae0ae9",
   "metadata": {
    "id": "67ae0ae9"
   },
   "source": [
    "Every expression has a **value**. For example, the expression `6 * 7` has the value `42`. Now, if you have e.g. multiplication and division in the same expression, they are evaluated from left to right."
   ]
  },
  {
   "cell_type": "code",
   "execution_count": null,
   "id": "e3af0553-d003-471f-afea-861bef78e989",
   "metadata": {},
   "outputs": [],
   "source": []
  },
  {
   "cell_type": "markdown",
   "id": "c324989b-e9ac-461c-bc45-07fdf74d08a8",
   "metadata": {},
   "source": [
    "## Arithmetic functions"
   ]
  },
  {
   "cell_type": "markdown",
   "id": "caebaa51",
   "metadata": {
    "id": "caebaa51"
   },
   "source": [
    "W3Schools.com: [Python Built-in Functions](https://www.w3schools.com/python/python_ref_functions.asp)\n",
    "\n",
    "In addition to the arithmetic operators, Python provides a few **functions** that work with numbers.\n",
    "For example, the `round` function takes a floating-point number and rounds it off to the nearest integer."
   ]
  },
  {
   "cell_type": "code",
   "execution_count": null,
   "id": "1e3d5e01",
   "metadata": {
    "colab": {
     "base_uri": "https://localhost:8080/"
    },
    "id": "1e3d5e01",
    "outputId": "16139610-fd83-4338-b6f8-f4117aa6066c"
   },
   "outputs": [],
   "source": []
  },
  {
   "cell_type": "code",
   "execution_count": null,
   "id": "d1b220b9",
   "metadata": {
    "colab": {
     "base_uri": "https://localhost:8080/"
    },
    "id": "d1b220b9",
    "outputId": "1868da31-b41a-49ac-86b1-6fded52dbf48"
   },
   "outputs": [],
   "source": []
  },
  {
   "cell_type": "markdown",
   "id": "f5738b4b",
   "metadata": {
    "id": "f5738b4b"
   },
   "source": [
    "The `abs` function computes the absolute value of a number.\n",
    "For a positive number, the absolute value is the number itself."
   ]
  },
  {
   "cell_type": "code",
   "execution_count": null,
   "id": "ff742476",
   "metadata": {
    "colab": {
     "base_uri": "https://localhost:8080/"
    },
    "id": "ff742476",
    "outputId": "f9a67c85-33ea-441e-a7e4-db4085302dfc"
   },
   "outputs": [],
   "source": []
  },
  {
   "cell_type": "markdown",
   "id": "e518494a",
   "metadata": {
    "id": "e518494a"
   },
   "source": [
    "For a negative number, the absolute value is positive."
   ]
  },
  {
   "cell_type": "code",
   "execution_count": null,
   "id": "9247c1a3",
   "metadata": {
    "colab": {
     "base_uri": "https://localhost:8080/"
    },
    "id": "9247c1a3",
    "outputId": "b9d00d8f-5d1c-4298-c9d4-83e60ada012a"
   },
   "outputs": [],
   "source": []
  },
  {
   "cell_type": "markdown",
   "id": "6969ce45",
   "metadata": {
    "id": "6969ce45"
   },
   "source": [
    "When we use a function like this, we say we're **calling** the function.\n",
    "An expression that calls a function is a **function call**.\n",
    "\n",
    "When you call a function, the parentheses are required.\n",
    "If you leave them out, you get an error message."
   ]
  },
  {
   "cell_type": "code",
   "execution_count": null,
   "id": "4674b7ca",
   "metadata": {
    "colab": {
     "base_uri": "https://localhost:8080/",
     "height": 105
    },
    "editable": true,
    "id": "4674b7ca",
    "outputId": "a64a2ea7-8e51-48d1-98d5-c58d20f32a9d",
    "slideshow": {
     "slide_type": ""
    },
    "tags": [
     "raises-exception"
    ]
   },
   "outputs": [],
   "source": []
  },
  {
   "cell_type": "markdown",
   "id": "7d356f1b",
   "metadata": {
    "id": "7d356f1b"
   },
   "source": [
    "You can ignore the first line of this message; it doesn't contain any information we need to understand right now.\n",
    "The second line is the code that contains the error, with a caret (`^`) beneath it to indicate where the error was discovered.\n",
    "\n",
    "The last line indicates that this is a **syntax error**, which means that there is something wrong with the structure of the expression.\n",
    "In this example, the problem is that a function call requires parentheses.\n",
    "\n",
    "Let's see what happens if you leave out the parentheses *and* the value."
   ]
  },
  {
   "cell_type": "code",
   "execution_count": null,
   "id": "7d3e8127",
   "metadata": {
    "colab": {
     "base_uri": "https://localhost:8080/"
    },
    "id": "7d3e8127",
    "outputId": "6d4cdc71-0d71-4a92-8ef4-23a1f1337425"
   },
   "outputs": [],
   "source": []
  },
  {
   "cell_type": "markdown",
   "id": "94478885",
   "metadata": {
    "id": "94478885"
   },
   "source": [
    "A function name all by itself is a legal expression that has a value.\n",
    "When it's displayed, the value indicates that `abs` is a function, and it includes some additional information I'll explain later."
   ]
  },
  {
   "cell_type": "markdown",
   "id": "bfc20cca-88b1-44db-b9e5-607e02aff70d",
   "metadata": {},
   "source": [
    "## Strings"
   ]
  },
  {
   "cell_type": "markdown",
   "id": "31a85d17",
   "metadata": {
    "id": "31a85d17"
   },
   "source": [
    "W3Schools.com: [Python Strings](https://www.w3schools.com/python/python_strings.asp)\n",
    "\n",
    "In addition to numbers, Python can also represent sequences of letters, which are called **strings** because the letters are strung together like beads on a necklace.\n",
    "To write a string, we can put a sequence of letters inside straight quotation marks."
   ]
  },
  {
   "cell_type": "code",
   "execution_count": null,
   "id": "bd8ae45f",
   "metadata": {
    "colab": {
     "base_uri": "https://localhost:8080/",
     "height": 35
    },
    "id": "bd8ae45f",
    "outputId": "3544b929-e00d-43c1-fafa-642d8235b3bd"
   },
   "outputs": [],
   "source": []
  },
  {
   "cell_type": "markdown",
   "id": "d20050d8",
   "metadata": {
    "id": "d20050d8"
   },
   "source": [
    "It is also legal to use double quotation marks."
   ]
  },
  {
   "cell_type": "code",
   "execution_count": null,
   "id": "01d0055e",
   "metadata": {
    "colab": {
     "base_uri": "https://localhost:8080/",
     "height": 35
    },
    "id": "01d0055e",
    "outputId": "25f4e995-7331-4d53-8acb-f8b556c368ee"
   },
   "outputs": [],
   "source": []
  },
  {
   "cell_type": "markdown",
   "id": "76f5edb7",
   "metadata": {
    "id": "76f5edb7"
   },
   "source": [
    "Double quotes make it easy to write a string that contains an apostrophe, which is the same symbol as a straight quote."
   ]
  },
  {
   "cell_type": "code",
   "execution_count": null,
   "id": "0295acab",
   "metadata": {
    "colab": {
     "base_uri": "https://localhost:8080/",
     "height": 35
    },
    "id": "0295acab",
    "outputId": "bea834d1-1f14-4d70-85f7-ea0f60c841e8"
   },
   "outputs": [],
   "source": []
  },
  {
   "cell_type": "markdown",
   "id": "d62d4b1c",
   "metadata": {
    "id": "d62d4b1c"
   },
   "source": [
    "Strings can also contain spaces, punctuation, and digits."
   ]
  },
  {
   "cell_type": "code",
   "execution_count": null,
   "id": "cf918917",
   "metadata": {
    "colab": {
     "base_uri": "https://localhost:8080/",
     "height": 35
    },
    "id": "cf918917",
    "outputId": "4893aee8-467b-4974-8be3-e7fe3eac6e18"
   },
   "outputs": [],
   "source": []
  },
  {
   "cell_type": "markdown",
   "id": "9ad47f7a",
   "metadata": {
    "id": "9ad47f7a"
   },
   "source": [
    "The `+` operator works with strings; it joins two strings into a single string, which is called **concatenation**"
   ]
  },
  {
   "cell_type": "code",
   "execution_count": null,
   "id": "aefe6af1",
   "metadata": {
    "colab": {
     "base_uri": "https://localhost:8080/",
     "height": 35
    },
    "id": "aefe6af1",
    "outputId": "f2cba9d4-6965-41f5-b2fb-e41a445b5984"
   },
   "outputs": [],
   "source": []
  },
  {
   "cell_type": "markdown",
   "id": "0ad969a3",
   "metadata": {
    "id": "0ad969a3"
   },
   "source": [
    "The `*` operator also works with strings; it makes multiple copies of a string and concatenates them."
   ]
  },
  {
   "cell_type": "code",
   "execution_count": null,
   "id": "42e9e4e2",
   "metadata": {
    "colab": {
     "base_uri": "https://localhost:8080/",
     "height": 35
    },
    "id": "42e9e4e2",
    "outputId": "c5e4bdbb-91ba-456b-ff4f-cd5fe84925aa"
   },
   "outputs": [],
   "source": []
  },
  {
   "cell_type": "markdown",
   "id": "dfba16a5",
   "metadata": {
    "id": "dfba16a5"
   },
   "source": [
    "The other arithmetic operators don't work with strings.\n",
    "\n",
    "Python provides a function called `len` that computes the length of a string."
   ]
  },
  {
   "cell_type": "code",
   "execution_count": null,
   "id": "a5e837db",
   "metadata": {
    "colab": {
     "base_uri": "https://localhost:8080/"
    },
    "id": "a5e837db",
    "outputId": "c3c2c1b5-1141-4433-df72-a4694f7469e1"
   },
   "outputs": [],
   "source": []
  },
  {
   "cell_type": "markdown",
   "id": "d91e00b3",
   "metadata": {
    "id": "d91e00b3"
   },
   "source": [
    "Notice that `len` counts the letters between the quotes, but not the quotes.\n",
    "\n",
    "When you create a string, be sure to use straight quotes.\n",
    "The back quote, also known as a backtick, causes a syntax error."
   ]
  },
  {
   "cell_type": "code",
   "execution_count": null,
   "id": "e3f65f19",
   "metadata": {
    "colab": {
     "base_uri": "https://localhost:8080/",
     "height": 105
    },
    "editable": true,
    "id": "e3f65f19",
    "outputId": "9f43fc4a-717e-4e3c-ebde-933481559344",
    "slideshow": {
     "slide_type": ""
    },
    "tags": [
     "raises-exception"
    ]
   },
   "outputs": [],
   "source": []
  },
  {
   "cell_type": "markdown",
   "id": "566c7b8c-ea44-496a-bff7-b8695ae6b719",
   "metadata": {},
   "source": [
    "## Values and types"
   ]
  },
  {
   "cell_type": "markdown",
   "id": "5471d4f8",
   "metadata": {
    "id": "5471d4f8"
   },
   "source": [
    "So far we've seen three kinds of values:\n",
    "\n",
    "* `2` is an integer,\n",
    "\n",
    "* `42.0` is a floating-point number, and\n",
    "\n",
    "* `'Hello'` is a string.\n",
    "\n",
    "A kind of value is called a **type**.\n",
    "Every value has a type -- or we sometimes say it \"belongs to\" a type.\n",
    "\n",
    "Python provides a function called `type` that tells you the type of any value.\n",
    "The type of an integer is `int`."
   ]
  },
  {
   "cell_type": "code",
   "execution_count": null,
   "id": "3df8e2c5",
   "metadata": {
    "colab": {
     "base_uri": "https://localhost:8080/"
    },
    "id": "3df8e2c5",
    "outputId": "b911ff42-9f6d-4a08-a03b-93bdc9e4ebdd"
   },
   "outputs": [],
   "source": []
  },
  {
   "cell_type": "markdown",
   "id": "b137814c",
   "metadata": {
    "id": "b137814c"
   },
   "source": [
    "The type of a floating-point number is `float`."
   ]
  },
  {
   "cell_type": "code",
   "execution_count": null,
   "id": "c4732c8d",
   "metadata": {
    "colab": {
     "base_uri": "https://localhost:8080/"
    },
    "id": "c4732c8d",
    "outputId": "01ed0e68-59eb-4d39-c06d-80ed5318cdb3"
   },
   "outputs": [],
   "source": []
  },
  {
   "cell_type": "markdown",
   "id": "266dea4e",
   "metadata": {
    "id": "266dea4e"
   },
   "source": [
    "And the type of a string is `str`."
   ]
  },
  {
   "cell_type": "code",
   "execution_count": null,
   "id": "8f65ac45",
   "metadata": {
    "colab": {
     "base_uri": "https://localhost:8080/"
    },
    "id": "8f65ac45",
    "outputId": "4c5c5897-5b35-424c-d7a4-07daa95ef635"
   },
   "outputs": [],
   "source": []
  },
  {
   "cell_type": "markdown",
   "id": "76d216ed",
   "metadata": {
    "id": "76d216ed"
   },
   "source": [
    "The types `int`, `float`, and `str` can be used as functions.\n",
    "For example, `int` can take a floating-point number and convert it to an integer by truncating the decimal (positive floats are rounded down while negative floats are rounded up)."
   ]
  },
  {
   "cell_type": "code",
   "execution_count": null,
   "id": "84b22f2f",
   "metadata": {
    "colab": {
     "base_uri": "https://localhost:8080/"
    },
    "id": "84b22f2f",
    "outputId": "13c67b91-6b58-4228-a926-b5f680a15f31"
   },
   "outputs": [],
   "source": []
  },
  {
   "cell_type": "markdown",
   "id": "dcd8d114",
   "metadata": {
    "id": "dcd8d114"
   },
   "source": [
    "And `float` can convert an integer to a floating-point value."
   ]
  },
  {
   "cell_type": "code",
   "execution_count": null,
   "id": "9b66ee21",
   "metadata": {
    "colab": {
     "base_uri": "https://localhost:8080/"
    },
    "id": "9b66ee21",
    "outputId": "a919a792-8b9d-48bb-8402-33d7a2792136"
   },
   "outputs": [],
   "source": []
  },
  {
   "cell_type": "markdown",
   "id": "eda70b61",
   "metadata": {
    "id": "eda70b61"
   },
   "source": [
    "Now, here's something that can be confusing.\n",
    "What do you get if you put a sequence of digits in quotes?"
   ]
  },
  {
   "cell_type": "code",
   "execution_count": null,
   "id": "f64e107c",
   "metadata": {
    "colab": {
     "base_uri": "https://localhost:8080/",
     "height": 35
    },
    "id": "f64e107c",
    "outputId": "dabf1eee-ed7a-4e94-8eec-66be3bbd6795"
   },
   "outputs": [],
   "source": []
  },
  {
   "cell_type": "markdown",
   "id": "fdded653",
   "metadata": {
    "id": "fdded653"
   },
   "source": [
    "It looks like a number, but it is actually a string."
   ]
  },
  {
   "cell_type": "code",
   "execution_count": null,
   "id": "609a8153",
   "metadata": {
    "colab": {
     "base_uri": "https://localhost:8080/"
    },
    "id": "609a8153",
    "outputId": "ad165719-499c-45fd-d163-f769542a1785"
   },
   "outputs": [],
   "source": []
  },
  {
   "cell_type": "markdown",
   "id": "2683ac35",
   "metadata": {
    "id": "2683ac35"
   },
   "source": [
    "If you try to use it like a number, you might get an error."
   ]
  },
  {
   "cell_type": "code",
   "execution_count": null,
   "id": "1cf21da4",
   "metadata": {
    "colab": {
     "base_uri": "https://localhost:8080/",
     "height": 139
    },
    "editable": true,
    "id": "1cf21da4",
    "outputId": "dd12d906-0779-47fc-ebfb-bea2b9a060db",
    "slideshow": {
     "slide_type": ""
    },
    "tags": [
     "raises-exception"
    ]
   },
   "outputs": [],
   "source": []
  },
  {
   "cell_type": "markdown",
   "id": "32c11cc4",
   "metadata": {
    "id": "32c11cc4"
   },
   "source": [
    "This example generates a `TypeError`, which means that the values in the expression, which are called **operands**, have the wrong type.\n",
    "The error message indicates that the `/` operator does not support the types of these values, which are `str` and `int`.\n",
    "\n",
    "If you have a string that contains digits, you can use `int` to convert it to an integer."
   ]
  },
  {
   "cell_type": "code",
   "execution_count": null,
   "id": "d45e6a60",
   "metadata": {
    "colab": {
     "base_uri": "https://localhost:8080/"
    },
    "id": "d45e6a60",
    "outputId": "eb05484c-3862-4f64-d094-3254970ebd39"
   },
   "outputs": [],
   "source": []
  },
  {
   "cell_type": "markdown",
   "id": "86935d56",
   "metadata": {
    "id": "86935d56"
   },
   "source": [
    "If you have a string that contains digits and a decimal point, you can use `float` to convert it to a floating-point number."
   ]
  },
  {
   "cell_type": "code",
   "execution_count": null,
   "id": "db30b719",
   "metadata": {
    "colab": {
     "base_uri": "https://localhost:8080/"
    },
    "id": "db30b719",
    "outputId": "f00bd2b8-4609-4892-dfac-1ba14216c692"
   },
   "outputs": [],
   "source": []
  },
  {
   "cell_type": "markdown",
   "id": "03103ef4",
   "metadata": {
    "id": "03103ef4"
   },
   "source": [
    "When you write a large integer, you might be tempted to use commas\n",
    "between groups of digits, as in `1,000,000`.\n",
    "This is a legal expression in Python, but the result is not an integer."
   ]
  },
  {
   "cell_type": "code",
   "execution_count": null,
   "id": "d72b6af1",
   "metadata": {
    "colab": {
     "base_uri": "https://localhost:8080/"
    },
    "id": "d72b6af1",
    "outputId": "ca52372b-6296-4666-a572-ab7cf00ab088"
   },
   "outputs": [],
   "source": []
  },
  {
   "cell_type": "markdown",
   "id": "3d24af71",
   "metadata": {
    "id": "3d24af71"
   },
   "source": [
    "Python interprets `1,000,000` as a comma-separated sequence of integers.\n",
    "We'll learn more about this kind of sequence later.\n",
    "\n",
    "You can use underscores to make large numbers easier to read."
   ]
  },
  {
   "cell_type": "code",
   "execution_count": null,
   "id": "e19bf7e7",
   "metadata": {
    "colab": {
     "base_uri": "https://localhost:8080/"
    },
    "id": "e19bf7e7",
    "outputId": "c9a52d6a-7c6c-42a3-f31d-0e7d8aec4cdd"
   },
   "outputs": [],
   "source": []
  },
  {
   "cell_type": "markdown",
   "id": "ec7527ee-4ab6-410a-b1d7-8cbd2765df8a",
   "metadata": {
    "jp-MarkdownHeadingCollapsed": true
   },
   "source": [
    "## Debugging"
   ]
  },
  {
   "cell_type": "markdown",
   "id": "4358fa9a",
   "metadata": {
    "id": "4358fa9a",
    "jp-MarkdownHeadingCollapsed": true
   },
   "source": [
    "Programmers make mistakes. For whimsical reasons, programming errors are called **bugs** and the process of tracking them down is called **debugging**.\n",
    "\n",
    "Programming, and especially debugging, sometimes brings out strong emotions. If you are struggling with a difficult bug, you might feel angry, sad, or embarrassed.\n",
    "\n",
    "Preparing for these reactions might help you deal with them. One approach is to think of the computer as an employee with certain strengths, like speed and precision, and particular weaknesses, like lack of empathy and inability to grasp the big picture.\n",
    "\n",
    "Your job is to be a good manager: find ways to take advantage of the strengths and mitigate the weaknesses. And find ways to use your emotions to engage with the problem, without letting your reactions interfere with your ability to work effectively.\n",
    "\n",
    "Learning to debug can be frustrating, but it is a valuable skill that is useful for many activities beyond programming. At the end of each chapter there is a section, like this one, with my suggestions for debugging. I hope they help!"
   ]
  },
  {
   "cell_type": "markdown",
   "id": "1235d68e-51d3-4425-8e60-8d954b67cc26",
   "metadata": {
    "jp-MarkdownHeadingCollapsed": true
   },
   "source": [
    "## Glossary"
   ]
  },
  {
   "cell_type": "markdown",
   "id": "33b8ad00",
   "metadata": {
    "id": "33b8ad00",
    "jp-MarkdownHeadingCollapsed": true
   },
   "source": [
    "**arithmetic operator:**\n",
    "A symbol, like `+` and `*`, that denotes an arithmetic operation like addition or multiplication.\n",
    "\n",
    "**integer:**\n",
    "A type that represents numbers with no fractional or decimal part.\n",
    "\n",
    "**floating-point:**\n",
    "A type that represents integers and numbers with decimal parts.\n",
    "\n",
    "**integer division:**\n",
    "An operator, `//`, that divides two numbers and rounds down to an integer.\n",
    "\n",
    "**expression:**\n",
    "A combination of variables, values, and operators.\n",
    "\n",
    "**value:**\n",
    "An integer, floating-point number, or string -- or one of other kinds of values we will see later.\n",
    "\n",
    "**function:**\n",
    "A named sequence of statements that performs some useful operation.\n",
    "Functions may or may not take arguments and may or may not produce a result.\n",
    "\n",
    "**function call:**\n",
    "An expression -- or part of an expression -- that runs a function.\n",
    "It consists of the function name followed by an argument list in parentheses.\n",
    "\n",
    "**syntax error:**\n",
    "An error in a program that makes it impossible to parse -- and therefore impossible to run.\n",
    "\n",
    "**string:**\n",
    " A type that represents sequences of characters.\n",
    "\n",
    "**concatenation:**\n",
    "Joining two strings end-to-end.\n",
    "\n",
    "**type:**\n",
    "A category of values.\n",
    "The types we have seen so far are integers (type `int`), floating-point numbers (type ` float`), and strings (type `str`).\n",
    "\n",
    "**operand:**\n",
    "One of the values on which an operator operates.\n",
    "\n",
    "**natural language:**\n",
    "Any of the languages that people speak that evolved naturally.\n",
    "\n",
    "**formal language:**\n",
    "Any of the languages that people have designed for specific purposes, such as representing mathematical ideas or computer programs.\n",
    "All programming languages are formal languages.\n",
    "\n",
    "**bug:**\n",
    "An error in a program.\n",
    "\n",
    "**debugging:**\n",
    "The process of finding and correcting errors."
   ]
  },
  {
   "cell_type": "markdown",
   "id": "ed4ec01b",
   "metadata": {
    "id": "ed4ec01b"
   },
   "source": [
    "## Exercises"
   ]
  },
  {
   "cell_type": "code",
   "execution_count": null,
   "id": "06d3e72c",
   "metadata": {
    "colab": {
     "base_uri": "https://localhost:8080/"
    },
    "id": "06d3e72c",
    "outputId": "29c45fa3-6fe0-46aa-bef9-d4e1dcd1d35a",
    "tags": []
   },
   "outputs": [],
   "source": [
    "# This cell tells Jupyter to provide detailed debugging information\n",
    "# when a runtime error occurs. Run it before working on the exercises.\n",
    "\n",
    "%xmode Verbose"
   ]
  },
  {
   "cell_type": "markdown",
   "id": "23adf208",
   "metadata": {
    "id": "23adf208"
   },
   "source": [
    "### Ask a virtual assistant\n",
    "\n",
    "As you work through this book, there are several ways you can use a virtual assistant or chatbot to help you learn.\n",
    "\n",
    "* If you want to learn more about a topic in the chapter, or anything is unclear, you can ask for an explanation.\n",
    "\n",
    "* If you are having a hard time with any of the exercises, you can ask for help.\n",
    "\n",
    "In each chapter, I'll suggest exercises you can do with a virtual assistant, but I encourage you to try things on your own and see what works for you."
   ]
  },
  {
   "cell_type": "markdown",
   "id": "ebf1a451",
   "metadata": {
    "id": "ebf1a451"
   },
   "source": [
    "Here are some topics you could ask a virtual assistant about:\n",
    "\n",
    "* Earlier I mentioned bitwise operators but I didn't explain why the value of `7 ^ 2` is 5. Try asking \"What are the bitwise operators in Python?\" or \"What is the value of `7 XOR 2`?\"\n",
    "\n",
    "* I also mentioned the order of operations. For more details, ask \"What is the order of operations in Python?\"\n",
    "\n",
    "* The `round` function, which we used to round a floating-point number to the nearest integer, can take a second argument. Try asking \"What are the arguments of the round function?\" or \"How do I round pi off to three decimal places?\"\n",
    "\n",
    "* There's one more arithmetic operator I didn't mention; try asking \"What is the modulus operator in Python?\""
   ]
  },
  {
   "cell_type": "markdown",
   "id": "9be3e1c7",
   "metadata": {
    "id": "9be3e1c7"
   },
   "source": [
    "Most virtual assistants know about Python, so they answer questions like this pretty reliably.\n",
    "But remember that these tools make mistakes.\n",
    "If you get code from a chatbot, test it!"
   ]
  },
  {
   "cell_type": "markdown",
   "id": "03c1ef93",
   "metadata": {
    "id": "03c1ef93"
   },
   "source": [
    "### Exercise\n",
    "\n",
    "You might wonder what `round` does if a number ends in `0.5`.\n",
    "The answer is that it sometimes rounds up and sometimes rounds down.\n",
    "Try these examples and see if you can figure out what rule it follows."
   ]
  },
  {
   "cell_type": "code",
   "execution_count": null,
   "id": "5d358f37",
   "metadata": {
    "colab": {
     "base_uri": "https://localhost:8080/"
    },
    "id": "5d358f37",
    "outputId": "2a3f46bb-e1d8-4dc3-ca2f-cd523f0be11f"
   },
   "outputs": [],
   "source": [
    "round(42.5)"
   ]
  },
  {
   "cell_type": "code",
   "execution_count": null,
   "id": "12aa59a3",
   "metadata": {
    "colab": {
     "base_uri": "https://localhost:8080/"
    },
    "id": "12aa59a3",
    "outputId": "7932cbae-50a6-447e-debd-f4bfc8d1a6b7"
   },
   "outputs": [],
   "source": [
    "round(43.5)"
   ]
  },
  {
   "cell_type": "markdown",
   "id": "dd2f890e",
   "metadata": {
    "id": "dd2f890e"
   },
   "source": [
    "If you are curious, ask a virtual assistant, \"If a number ends in 0.5, does Python round up or down?\""
   ]
  },
  {
   "cell_type": "markdown",
   "id": "2cd03bcb",
   "metadata": {
    "id": "2cd03bcb"
   },
   "source": [
    "### Exercise\n",
    "\n",
    "When you learn about a new feature, you should try it out and make mistakes on purpose.\n",
    "That way, you learn the error messages, and when you see them again, you will know what they mean.\n",
    "It is better to make mistakes now and deliberately than later and accidentally.\n",
    "\n",
    "1.  You can use a minus sign to make a negative number like `-2`. What happens if you put a plus sign before a number? What about `2++2`?\n",
    "\n",
    "2.  What happens if you have two values with no operator between them, like `4 2`?\n",
    "\n",
    "3.  If you call a function like `round(42.5)`, what happens if you leave out one or both parentheses?"
   ]
  },
  {
   "cell_type": "markdown",
   "id": "1fb0adfe",
   "metadata": {
    "id": "1fb0adfe"
   },
   "source": [
    "### Exercise\n",
    "\n",
    "Recall that every expression has a value, every value has a type, and we can use the `type` function to find the type of any value.\n",
    "\n",
    "What is the type of the value of the following expressions? Make your best guess for each one, and then use `type` to find out.\n",
    "\n",
    "* `765`\n",
    "\n",
    "* `2.718`\n",
    "\n",
    "* `'2 pi'`\n",
    "\n",
    "* `abs(-7)`\n",
    "\n",
    "* `abs(-7.0)`\n",
    "\n",
    "* `abs`\n",
    "\n",
    "* `int`\n",
    "\n",
    "* `type`"
   ]
  },
  {
   "cell_type": "markdown",
   "id": "23762eec",
   "metadata": {
    "id": "23762eec"
   },
   "source": [
    "### Exercise\n",
    "\n",
    "The following questions give you a chance to practice writing arithmetic expressions.\n",
    "\n",
    "1.  How many seconds are there in 42 minutes 42 seconds?\n",
    "\n",
    "2.  How many miles are there in 10 kilometers? Hint: there are 1.61 kilometers in a mile.\n",
    "\n",
    "3.  If you run a 10 kilometer race in 42 minutes 42 seconds, what is your average pace in seconds per mile?\n",
    "    \n",
    "4.  What is your average pace in minutes and seconds per mile?\n",
    "\n",
    "5.  What is your average speed in miles per hour?\n",
    "\n",
    "If you already know about variables, you can use them for this exercise.\n",
    "If you don't, you can do the exercise without them -- and then we'll see them in the next chapter."
   ]
  },
  {
   "cell_type": "code",
   "execution_count": null,
   "id": "8fb50f30",
   "metadata": {
    "id": "8fb50f30"
   },
   "outputs": [],
   "source": [
    "# Solution goes here"
   ]
  },
  {
   "cell_type": "code",
   "execution_count": null,
   "id": "5eceb4fb",
   "metadata": {
    "id": "5eceb4fb"
   },
   "outputs": [],
   "source": [
    "# Solution goes here"
   ]
  },
  {
   "cell_type": "code",
   "execution_count": null,
   "id": "fee97d8d",
   "metadata": {
    "id": "fee97d8d"
   },
   "outputs": [],
   "source": [
    "# Solution goes here"
   ]
  },
  {
   "cell_type": "code",
   "execution_count": null,
   "id": "a998258c",
   "metadata": {
    "id": "a998258c"
   },
   "outputs": [],
   "source": [
    "# Solution goes here"
   ]
  },
  {
   "cell_type": "code",
   "execution_count": null,
   "id": "2e0fc7a9",
   "metadata": {
    "id": "2e0fc7a9"
   },
   "outputs": [],
   "source": [
    "# Solution goes here"
   ]
  },
  {
   "cell_type": "code",
   "execution_count": null,
   "id": "d25268d8",
   "metadata": {
    "id": "d25268d8"
   },
   "outputs": [],
   "source": [
    "# Solution goes here"
   ]
  },
  {
   "cell_type": "code",
   "execution_count": null,
   "id": "523d9b0f",
   "metadata": {
    "id": "523d9b0f"
   },
   "outputs": [],
   "source": [
    "# Solution goes here"
   ]
  },
  {
   "cell_type": "markdown",
   "id": "d7cab838-696d-425e-81d5-cd02899e61b1",
   "metadata": {},
   "source": [
    "## Credits"
   ]
  },
  {
   "cell_type": "markdown",
   "id": "a7f4edf8",
   "metadata": {
    "editable": true,
    "id": "a7f4edf8",
    "slideshow": {
     "slide_type": ""
    },
    "tags": []
   },
   "source": [
    "Adapted from [Think Python: 3rd Edition](https://allendowney.github.io/ThinkPython/index.html) by [Allen B. Downey](https://allendowney.com)\n",
    "\n",
    "Code license: [MIT License](https://mit-license.org/)\n",
    "\n",
    "Text license: [Creative Commons Attribution-NonCommercial-ShareAlike 4.0 International](https://creativecommons.org/licenses/by-nc-sa/4.0/)"
   ]
  },
  {
   "cell_type": "code",
   "execution_count": null,
   "id": "91704fdd-6e86-4381-8879-9bef7eac3abc",
   "metadata": {},
   "outputs": [],
   "source": []
  }
 ],
 "metadata": {
  "celltoolbar": "Tags",
  "colab": {
   "include_colab_link": true,
   "provenance": []
  },
  "kernelspec": {
   "display_name": "Python 3 (ipykernel)",
   "language": "python",
   "name": "python3"
  },
  "language_info": {
   "codemirror_mode": {
    "name": "ipython",
    "version": 3
   },
   "file_extension": ".py",
   "mimetype": "text/x-python",
   "name": "python",
   "nbconvert_exporter": "python",
   "pygments_lexer": "ipython3",
   "version": "3.13.5"
  }
 },
 "nbformat": 4,
 "nbformat_minor": 5
}
